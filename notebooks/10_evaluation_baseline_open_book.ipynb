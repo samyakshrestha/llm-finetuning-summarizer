{
 "cells": [
  {
   "cell_type": "markdown",
   "metadata": {
    "id": "khPezFjAD1sv"
   },
   "source": [
    "## Step 1: Mounting Google Drive and Importing Dependencies"
   ]
  },
  {
   "cell_type": "markdown",
   "metadata": {
    "id": "mpSfOtj1XqhK"
   },
   "source": [
    "# Baseline Model Evaluation (Open-Book)\n",
    "\n",
    "This notebook evaluates the performance of the **base Mistral-7B-Instruct-v0.3** model on a curated scientific QA task. The model was given **question + context** (abstract, introduction, and conclusion of the paper) at inference time, but **was not fine-tuned** on the QA dataset. This simulates an open-book setting using a pretrained instruction-tuned model.\n",
    "\n",
    "---\n",
    "\n",
    "### Evaluation Metrics\n",
    "\n",
    "| Metric               | Baseline (w/ Context) | Fine-Tuned (w/ Context) | Δ Improvement |\n",
    "|----------------------|----------------------:|--------------------------:|--------------:|\n",
    "| **BLEU-1**           | 0.2700                | **0.4010**               | +0.1310       |\n",
    "| **BLEU-4**           | 0.0855                | **0.1625**               | +0.0770       |\n",
    "| **BERTScore (F1)**   | 0.4060                | **0.5295**               | +0.1235       |\n",
    "| **LLM-as-Judge**     | 3.73 / 5              | **3.97 / 5**             | +0.24         |\n",
    "\n",
    "---\n",
    "\n",
    "### Insights\n",
    "\n",
    "- The baseline model benefits significantly from contextual grounding, even without task-specific fine-tuning.\n",
    "- Fine-tuning still leads to **consistent improvements across all metrics**, especially BLEU and BERTScore.\n",
    "- The narrow LLM-as-Judge score gap suggests that the base Mistral model is already competent in general QA, but **fine-tuning increases specificity and completeness**.\n",
    "\n",
    "---"
   ]
  },
  {
   "cell_type": "code",
   "execution_count": 1,
   "metadata": {
    "colab": {
     "base_uri": "https://localhost:8080/"
    },
    "executionInfo": {
     "elapsed": 21139,
     "status": "ok",
     "timestamp": 1744867525886,
     "user": {
      "displayName": "Samyak Shrestha (Caesar)",
      "userId": "13083503381857072620"
     },
     "user_tz": 300
    },
    "id": "Q-5BNhqgDoNe",
    "outputId": "dadd7bee-2899-4180-d7b2-2a83e6ffd5d0"
   },
   "outputs": [
    {
     "name": "stdout",
     "output_type": "stream",
     "text": [
      "Mounted at /content/drive\n",
      "/content/drive/MyDrive/llm-finetuning-project/llm-finetuning-summarizer\n",
      "data\t    LICENSE  notebooks\t      qa_pairs\t results  wandb\n",
      "deployment  models   project_plan.md  README.md  scripts\n"
     ]
    }
   ],
   "source": [
    "# Mount Google Drive\n",
    "from google.colab import drive, files\n",
    "drive.mount('/content/drive')\n",
    "\n",
    "# Navigate to the repo folder\n",
    "%cd /content/drive/MyDrive/llm-finetuning-project/llm-finetuning-summarizer\n",
    "\n",
    "# List repo contents\n",
    "!ls"
   ]
  },
  {
   "cell_type": "code",
   "execution_count": null,
   "metadata": {
    "id": "MnuJ_b_LD5qm"
   },
   "outputs": [],
   "source": [
    "!pip install datasets bert-score openai --quiet"
   ]
  },
  {
   "cell_type": "code",
   "execution_count": null,
   "metadata": {
    "id": "TCc-SU4jL8vn"
   },
   "outputs": [],
   "source": [
    "!pip install bitsandbytes --prefer-binary --extra-index-url https://download.pytorch.org/whl/cu118 --quiet"
   ]
  },
  {
   "cell_type": "code",
   "execution_count": 4,
   "metadata": {
    "executionInfo": {
     "elapsed": 17910,
     "status": "ok",
     "timestamp": 1744867626038,
     "user": {
      "displayName": "Samyak Shrestha (Caesar)",
      "userId": "13083503381857072620"
     },
     "user_tz": 300
    },
    "id": "GDLNxvSyE-8n"
   },
   "outputs": [],
   "source": [
    "from transformers import AutoTokenizer, AutoModelForCausalLM, pipeline, BitsAndBytesConfig\n",
    "from peft import PeftModel\n",
    "from huggingface_hub import login\n",
    "import torch\n",
    "from datasets import load_from_disk, load_dataset\n",
    "import json\n",
    "import os\n",
    "from nltk.translate.bleu_score import sentence_bleu, SmoothingFunction\n",
    "from google.colab import userdata\n",
    "import time\n",
    "import openai\n",
    "from openai import OpenAI\n",
    "from getpass import getpass\n",
    "import random\n",
    "import numpy as np\n",
    "from bert_score import score as bertscore"
   ]
  },
  {
   "cell_type": "markdown",
   "metadata": {
    "id": "l6bscc3TFd4S"
   },
   "source": [
    "## Step 2: Loading the Validation Set for Evaluation"
   ]
  },
  {
   "cell_type": "code",
   "execution_count": 5,
   "metadata": {
    "colab": {
     "base_uri": "https://localhost:8080/"
    },
    "executionInfo": {
     "elapsed": 318,
     "status": "ok",
     "timestamp": 1744867629109,
     "user": {
      "displayName": "Samyak Shrestha (Caesar)",
      "userId": "13083503381857072620"
     },
     "user_tz": 300
    },
    "id": "sywaHZGcFYlx",
    "outputId": "f031a956-af17-42b5-cd27-2fc280af020a"
   },
   "outputs": [
    {
     "name": "stdout",
     "output_type": "stream",
     "text": [
      "Loaded 30 QA pairs for evaluation.\n"
     ]
    }
   ],
   "source": [
    "eval_path = \"./data/eval_with_context.jsonl\"\n",
    "eval_pairs = []\n",
    "\n",
    "with open(eval_path, \"r\") as f:\n",
    "    for line in f:\n",
    "        eval_pairs.append(json.loads(line.strip()))\n",
    "\n",
    "print(f\"Loaded {len(eval_pairs)} QA pairs for evaluation.\")"
   ]
  },
  {
   "cell_type": "markdown",
   "metadata": {
    "id": "pvpIkqbkI11Q"
   },
   "source": [
    "## Step 3: Loading Baseline Model"
   ]
  },
  {
   "cell_type": "code",
   "execution_count": 6,
   "metadata": {
    "colab": {
     "base_uri": "https://localhost:8080/",
     "height": 17,
     "referenced_widgets": [
      "d3e63fe2cb3841a09f3b0feda1154ee5",
      "d4caf0a724cc417ab8ac5dea37c85865",
      "3789500fc6024c4986e98af5c7aca7da",
      "886dc9e005c544cf9ae0314e29f5544e",
      "e4efcb71a2dd42c9bca21f3678f5f055",
      "6e53eaeb7b97475b83686958ddae7635",
      "ca59dd4b05e341ae9e8aeec95b319852",
      "a3c8729e21b8435bb1511d8b5dcea910",
      "93bba63efd7e493c862eac31215c0992",
      "44758985cccf49ed8208a113e71232b3",
      "c0a1fdf02dde4cd09beaaea480cb498a",
      "8ddc795b9426455d8eabc83302a8cac2",
      "e5ba6b627cc349158d0af089ccbff1d4",
      "53790a6c5b68403ca66b8a110f6b4b81",
      "81cda823bb1441d38dc1606f8c778e22",
      "358550648ee14e98b627c434ee5973b0",
      "e85a7ff686454dcdb05038ffe8016f78",
      "e7524995f0af49b6a5ff686adc3e8c8e",
      "825a75d8956540e3add31e0eeed8afdd",
      "924b3594d3064ea8961080745452c06a"
     ]
    },
    "executionInfo": {
     "elapsed": 113,
     "status": "ok",
     "timestamp": 1744867630821,
     "user": {
      "displayName": "Samyak Shrestha (Caesar)",
      "userId": "13083503381857072620"
     },
     "user_tz": 300
    },
    "id": "s-2NZ2HiJNbp",
    "outputId": "6347ebbc-071e-443f-8cea-9136a67bf0fb"
   },
   "outputs": [
    {
     "data": {
      "application/vnd.jupyter.widget-view+json": {
       "model_id": "d3e63fe2cb3841a09f3b0feda1154ee5",
       "version_major": 2,
       "version_minor": 0
      },
      "text/plain": [
       "VBox(children=(HTML(value='<center> <img\\nsrc=https://huggingface.co/front/assets/huggingface_logo-noborder.sv…"
      ]
     },
     "metadata": {},
     "output_type": "display_data"
    }
   ],
   "source": [
    "login()"
   ]
  },
  {
   "cell_type": "code",
   "execution_count": null,
   "metadata": {
    "id": "DWpSk7BmFiez"
   },
   "outputs": [],
   "source": [
    "tokenizer = AutoTokenizer.from_pretrained(\"mistralai/Mistral-7B-Instruct-v0.3\")"
   ]
  },
  {
   "cell_type": "code",
   "execution_count": 8,
   "metadata": {
    "executionInfo": {
     "elapsed": 3,
     "status": "ok",
     "timestamp": 1744867657753,
     "user": {
      "displayName": "Samyak Shrestha (Caesar)",
      "userId": "13083503381857072620"
     },
     "user_tz": 300
    },
    "id": "e22gK_LgI86Y"
   },
   "outputs": [],
   "source": [
    "tokenizer.pad_token = tokenizer.eos_token"
   ]
  },
  {
   "cell_type": "code",
   "execution_count": 9,
   "metadata": {
    "executionInfo": {
     "elapsed": 3,
     "status": "ok",
     "timestamp": 1744867659245,
     "user": {
      "displayName": "Samyak Shrestha (Caesar)",
      "userId": "13083503381857072620"
     },
     "user_tz": 300
    },
    "id": "RefHfaG_JXfd"
   },
   "outputs": [],
   "source": [
    "# Preparing the model for 4-bit inference (memory-efficient)\n",
    "bnb_config = BitsAndBytesConfig(\n",
    "    load_in_4bit=True,\n",
    "    bnb_4bit_compute_dtype=torch.float16,\n",
    "    bnb_4bit_use_double_quant=True,\n",
    "    bnb_4bit_quant_type=\"nf4\"\n",
    ")"
   ]
  },
  {
   "cell_type": "code",
   "execution_count": 10,
   "metadata": {
    "colab": {
     "base_uri": "https://localhost:8080/",
     "height": 273,
     "referenced_widgets": [
      "3e377beb7e244968b2ce80b9c2b7a2b5",
      "3ffcf5dba21f4bc18b2cc0d96d37d68c",
      "f4048302a60e4abea1aa06aad438471f",
      "aad2f2b21ac649a9ad1670f2d7605552",
      "6e089db54a6f4c38b01b8a5811a71046",
      "99e406a2bc85454d8fedff0abfb5461b",
      "709fcca1ea424385a09e0220b5d65878",
      "f0f211277d41432b9bcd641c7c82c15c",
      "028c23c3de604333b38266b1ed0d0c10",
      "afc859b4ce5b4e728ff872d5e92e3631",
      "52d9db16842442ef92355f0805a73ca2",
      "13af2a6f72cb41b2ada7027ee81b8071",
      "b6d83466859c4445864f3445de67fe66",
      "f1e57965e1be4dcea611521231b0aade",
      "59fd306dce96474f98b9bdb165320594",
      "dad0d49569f94c51b1a749b0dd20d581",
      "9e8000308ac449d6a89164957c862974",
      "f6b008ffd13448bd88a26085427f2608",
      "405ce5c9abf34131b1fdddf90f4c70ff",
      "3fcdc131e8174f3e99c206d3250aa5a7",
      "4730174f2f8a43eb979d68192ee0449d",
      "1483dba239b1426ca23be6b501715a6a",
      "991aa91aef944146909352c5ea5a6eaf",
      "888bc6015bc24faf9297a82e79f80457",
      "8b1d90c405d44e8c9c7f362557122a56",
      "313fe379cdba482784a31b9c5e05fa92",
      "7de3478e64a1463e8827be9cdf638c75",
      "8ca7f4dc4fc74384a7c121dc3b584bdc",
      "033b82c66c2a4efe9fc68c423c32a636",
      "b538d5e0097646d0bd2e08980c798f2a",
      "05aae34826f6442fb7a1b59b4a164814",
      "1da1862dc38c4b4698fee3a3300280f5",
      "797746d4b20a407fb9d875e819e1cf92",
      "614f781ecfaa474c9c87894c913e9604",
      "8a87f2a197fb49f5a8ff14605dbd10b2",
      "edbade7bf6b846fcbe18900a46f8967d",
      "4481efccb6224b17b00a37d65a0995d4",
      "1bc562822e6b458ca40490711d4651fa",
      "51f7339725264cb4b33dbc0b42233b48",
      "0130b11d3360468b85edf5b9a2583111",
      "803d1474b8414eab9da7bece606148fd",
      "d37a168a0d7345ada4cd0f6cbf427847",
      "b60e008a6dac4c40bd5d9206ac87a912",
      "9d7fda5bd99247a498e80c5fc8ed08ef",
      "57a3f3dc485347d9a213a3095ba3f1d8",
      "61f9d6974c914138ba42ed580191a9ba",
      "0eaabae9075d4c1889ece9ca8f04bea7",
      "15898fad81284f37ba35194bc6ab0288",
      "4964933c26c947bea7413f7b96eb01d1",
      "97a13d99944047ecb5c90ab9ff10668f",
      "ab6285f1d34048fabf075bc95b1228e3",
      "6841ea67a9d44f71be099c1f1c71d760",
      "7f8c2fd085dd46d8a45bb3ae556fd82f",
      "ef57171b3cf1471eb002ab700efb41e7",
      "512f7c9c323749c18c4089a2e6ffc49b",
      "0b4d7d23c1e44464be3d45136262703e",
      "fc6311d6a59746729790dfc8a0ef4b4a",
      "a11e440e6f224092aa81a67454f2a446",
      "2eb2a5e3ae0347e4a696a48963d55c94",
      "f051ff57f2b1424597856fce5b0c58d8",
      "02ce01b21c1e428498cb9d1fba4f4a65",
      "2cc6345380db47eea3641986ba11b84b",
      "3208b91b141c4b15a1e56f52a4178772",
      "713663b574d24fb5835fe5a76d622d3d",
      "ce1fd6ac48184f5bbcdd694e369ad2e2",
      "2ccd9111b95b4795a280221e371bee5d",
      "a3d6a2e3b9484c3aae122ac4b29b0288",
      "802a853b1977467d95d1e4f1b6d98d21",
      "c1892f597e8040699cb36c07af551ffd",
      "a4b6da5825ac4d68927fe529c90cb75f",
      "8b1816ebc1a44914a20dbc0c1530dada",
      "bf458e8912574c84b534dee9d799b091",
      "9879fdbbdb554ba6a263faaf78961c09",
      "0fb0c6e9751d4f15bdf8c17f3ddc0161",
      "4f4877d5d4954cbf876a24df1aba4147",
      "a9da5df2352b4ba59d650717a309c6b1",
      "071d2b55f8d242989b547073b301994e",
      "1dca9392c5ef4a28962b9ae93ed64629",
      "298f3582789d4ec691e5538b3e26b400",
      "3cccc9b13798401f864ac850cd4b8d31",
      "e3e624e06c5749a49c9c489a3248086b",
      "8d18e274fd3447c1b9f30f22b4e531ce",
      "c48720191d064dc99e8f7d6251f3f68f",
      "276a1b1bf4184684bc92e90b0cd92207",
      "64ac9e5a4dad4a8b80b88f36a4f890ef",
      "e281a0a46cb146638e6487695198cd94",
      "bffaf1bfdc0842c881538408c2fbc1f8",
      "18038bc808d047058e99bddda451b46d"
     ]
    },
    "executionInfo": {
     "elapsed": 98784,
     "status": "ok",
     "timestamp": 1744867759041,
     "user": {
      "displayName": "Samyak Shrestha (Caesar)",
      "userId": "13083503381857072620"
     },
     "user_tz": 300
    },
    "id": "BKVXJNqMLswp",
    "outputId": "89bb0906-939d-40cb-a230-2f0291cbde91"
   },
   "outputs": [
    {
     "data": {
      "application/vnd.jupyter.widget-view+json": {
       "model_id": "3e377beb7e244968b2ce80b9c2b7a2b5",
       "version_major": 2,
       "version_minor": 0
      },
      "text/plain": [
       "config.json:   0%|          | 0.00/601 [00:00<?, ?B/s]"
      ]
     },
     "metadata": {},
     "output_type": "display_data"
    },
    {
     "data": {
      "application/vnd.jupyter.widget-view+json": {
       "model_id": "13af2a6f72cb41b2ada7027ee81b8071",
       "version_major": 2,
       "version_minor": 0
      },
      "text/plain": [
       "model.safetensors.index.json:   0%|          | 0.00/23.9k [00:00<?, ?B/s]"
      ]
     },
     "metadata": {},
     "output_type": "display_data"
    },
    {
     "data": {
      "application/vnd.jupyter.widget-view+json": {
       "model_id": "991aa91aef944146909352c5ea5a6eaf",
       "version_major": 2,
       "version_minor": 0
      },
      "text/plain": [
       "Fetching 3 files:   0%|          | 0/3 [00:00<?, ?it/s]"
      ]
     },
     "metadata": {},
     "output_type": "display_data"
    },
    {
     "data": {
      "application/vnd.jupyter.widget-view+json": {
       "model_id": "614f781ecfaa474c9c87894c913e9604",
       "version_major": 2,
       "version_minor": 0
      },
      "text/plain": [
       "model-00001-of-00003.safetensors:   0%|          | 0.00/4.95G [00:00<?, ?B/s]"
      ]
     },
     "metadata": {},
     "output_type": "display_data"
    },
    {
     "data": {
      "application/vnd.jupyter.widget-view+json": {
       "model_id": "57a3f3dc485347d9a213a3095ba3f1d8",
       "version_major": 2,
       "version_minor": 0
      },
      "text/plain": [
       "model-00002-of-00003.safetensors:   0%|          | 0.00/5.00G [00:00<?, ?B/s]"
      ]
     },
     "metadata": {},
     "output_type": "display_data"
    },
    {
     "data": {
      "application/vnd.jupyter.widget-view+json": {
       "model_id": "0b4d7d23c1e44464be3d45136262703e",
       "version_major": 2,
       "version_minor": 0
      },
      "text/plain": [
       "model-00003-of-00003.safetensors:   0%|          | 0.00/4.55G [00:00<?, ?B/s]"
      ]
     },
     "metadata": {},
     "output_type": "display_data"
    },
    {
     "data": {
      "application/vnd.jupyter.widget-view+json": {
       "model_id": "a3d6a2e3b9484c3aae122ac4b29b0288",
       "version_major": 2,
       "version_minor": 0
      },
      "text/plain": [
       "Loading checkpoint shards:   0%|          | 0/3 [00:00<?, ?it/s]"
      ]
     },
     "metadata": {},
     "output_type": "display_data"
    },
    {
     "data": {
      "application/vnd.jupyter.widget-view+json": {
       "model_id": "1dca9392c5ef4a28962b9ae93ed64629",
       "version_major": 2,
       "version_minor": 0
      },
      "text/plain": [
       "generation_config.json:   0%|          | 0.00/116 [00:00<?, ?B/s]"
      ]
     },
     "metadata": {},
     "output_type": "display_data"
    }
   ],
   "source": [
    "model = AutoModelForCausalLM.from_pretrained(\n",
    "    \"mistralai/Mistral-7B-Instruct-v0.3\",\n",
    "    quantization_config=bnb_config,\n",
    "    device_map=\"auto\"\n",
    ")"
   ]
  },
  {
   "cell_type": "markdown",
   "metadata": {
    "id": "-cpvvus0PQjI"
   },
   "source": [
    "## Step 4: Generating Model Predictions"
   ]
  },
  {
   "cell_type": "code",
   "execution_count": 12,
   "metadata": {
    "executionInfo": {
     "elapsed": 3,
     "status": "ok",
     "timestamp": 1744868284768,
     "user": {
      "displayName": "Samyak Shrestha (Caesar)",
      "userId": "13083503381857072620"
     },
     "user_tz": 300
    },
    "id": "e3DXb_KlMJX0"
   },
   "outputs": [],
   "source": [
    "def generate_answer_with_context(context: str, question: str) -> str:\n",
    "    prompt = f\"Context:\\n{context}\\n\\nQuestion: {question}\\nAnswer:\"\n",
    "\n",
    "    inputs = tokenizer(\n",
    "        prompt,\n",
    "        return_tensors=\"pt\",\n",
    "        padding=True,\n",
    "        truncation=True,\n",
    "        max_length=2048\n",
    "    ).to(model.device)\n",
    "\n",
    "    with torch.no_grad():\n",
    "        outputs = model.generate(\n",
    "            input_ids=inputs[\"input_ids\"],\n",
    "            attention_mask=inputs[\"attention_mask\"],\n",
    "            max_new_tokens=512,\n",
    "            do_sample=False  # Greedy decoding\n",
    "        )\n",
    "\n",
    "    decoded = tokenizer.decode(outputs[0], skip_special_tokens=True)\n",
    "    return decoded.split(\"Answer:\")[-1].strip()"
   ]
  },
  {
   "cell_type": "code",
   "execution_count": null,
   "metadata": {
    "id": "cqBKK_KeQGXF"
   },
   "outputs": [],
   "source": [
    "# Run predictions\n",
    "results = []\n",
    "\n",
    "for item in eval_pairs:\n",
    "    question = item[\"question\"]\n",
    "    reference = item[\"answer\"]\n",
    "    context = item[\"context\"]\n",
    "\n",
    "    prediction = generate_answer_with_context(context, question)\n",
    "\n",
    "    results.append({\n",
    "        \"question\": question,\n",
    "        \"reference\": reference,\n",
    "        \"context\": context,\n",
    "        \"prediction\": prediction\n",
    "    })"
   ]
  },
  {
   "cell_type": "code",
   "execution_count": 14,
   "metadata": {
    "executionInfo": {
     "elapsed": 2,
     "status": "ok",
     "timestamp": 1744868685414,
     "user": {
      "displayName": "Samyak Shrestha (Caesar)",
      "userId": "13083503381857072620"
     },
     "user_tz": 300
    },
    "id": "HBHIlY9PQ3M_"
   },
   "outputs": [],
   "source": [
    "# Save for evaluation\n",
    "with open(\"eval_openbook_predictions_baseline.json\", \"w\") as f:\n",
    "    json.dump(results, f, indent=2)"
   ]
  },
  {
   "cell_type": "code",
   "execution_count": 15,
   "metadata": {
    "colab": {
     "base_uri": "https://localhost:8080/"
    },
    "executionInfo": {
     "elapsed": 135,
     "status": "ok",
     "timestamp": 1744868713201,
     "user": {
      "displayName": "Samyak Shrestha (Caesar)",
      "userId": "13083503381857072620"
     },
     "user_tz": 300
    },
    "id": "fAvVgm21RzXS",
    "outputId": "1400cfc8-0a34-43f3-ef34-746cdb8a37df"
   },
   "outputs": [
    {
     "name": "stdout",
     "output_type": "stream",
     "text": [
      "Predictions saved to ./data/evaluation/eval_predictions_open_book_baseline.json\n"
     ]
    }
   ],
   "source": [
    "output_path = \"./data/evaluation/eval_predictions_open_book_baseline.json\"\n",
    "\n",
    "os.makedirs(os.path.dirname(output_path), exist_ok=True)\n",
    "\n",
    "with open(output_path, \"w\") as f:\n",
    "    json.dump(results, f, indent=2)\n",
    "\n",
    "print(f\"Predictions saved to {output_path}\")"
   ]
  },
  {
   "cell_type": "markdown",
   "metadata": {
    "id": "jg7wo0iSR8sB"
   },
   "source": [
    "## Step 5: BLEU Score Evaluation\n",
    "\n",
    "In this section, we evaluate our fine-tuned model using the **BLEU (Bilingual Evaluation Understudy)** score, a standard metric for evaluating the quality of generated text by comparing it to a reference answer.\n",
    "\n",
    "### What is BLEU?\n",
    "BLEU measures *n-gram overlap* between the model's prediction and the reference answer:\n",
    "- **BLEU-1**: unigram overlap (word-level similarity)\n",
    "- **BLEU-2**: bigram overlap (2-word chunks)\n",
    "- **BLEU-3**: trigram overlap\n",
    "- **BLEU-4**: 4-gram overlap (more stringent)\n",
    "\n",
    "### Components of the Code:\n",
    "- `weights=(1, 0, 0, 0)`: Measures unigram overlap only (BLEU-1).\n",
    "- `smoothing_function=method1`: Prevents the BLEU score from dropping to 0 when there are no exact n-gram matches. This is useful for short or paraphrased responses.\n",
    "- We iterate over our evaluation dataset and compute BLEU-1 through BLEU-4 for each response.\n",
    "\n",
    "### Limitations:\n",
    "BLEU is a **surface-level** metric:\n",
    "- It penalizes paraphrasing.\n",
    "- It doesn't understand meaning—only *form*.\n",
    "- It is useful for rough comparison, but **not sufficient alone** to assess model quality.\n",
    "\n",
    "Hence, we will also perform **qualitative evaluation** using *LLM-as-a-Judge* in the next step.\n",
    "\n",
    "### Results:\n",
    "Our average scores were:\n",
    "- BLEU-1: *e.g., 0.22*\n",
    "- BLEU-2: *e.g., 0.11*\n",
    "- BLEU-3: *e.g., 0.07*\n",
    "- BLEU-4: *e.g., 0.05*\n",
    "\n",
    "These low scores are expected, since:\n",
    "1. The evaluation was *closed-book* (no document context).\n",
    "2. The questions were from **papers published in 2025**, after the model's training cutoff.\n",
    "3. The model had not seen any of these papers during fine-tuning.\n",
    "\n",
    "**Conclusion**: BLEU gives us a sense of lexical similarity. In high-difficulty settings like this one, it must be supplemented with qualitative evaluation."
   ]
  },
  {
   "cell_type": "code",
   "execution_count": 16,
   "metadata": {
    "executionInfo": {
     "elapsed": 6,
     "status": "ok",
     "timestamp": 1744868778709,
     "user": {
      "displayName": "Samyak Shrestha (Caesar)",
      "userId": "13083503381857072620"
     },
     "user_tz": 300
    },
    "id": "igkrUNbDR6Gp"
   },
   "outputs": [],
   "source": [
    "# Load predictions with context\n",
    "with open(\"eval_openbook_predictions_baseline.json\", \"r\") as f:\n",
    "    eval_results = json.load(f)"
   ]
  },
  {
   "cell_type": "code",
   "execution_count": 17,
   "metadata": {
    "executionInfo": {
     "elapsed": 3,
     "status": "ok",
     "timestamp": 1744868798068,
     "user": {
      "displayName": "Samyak Shrestha (Caesar)",
      "userId": "13083503381857072620"
     },
     "user_tz": 300
    },
    "id": "tfYDyXfvSKJN"
   },
   "outputs": [],
   "source": [
    "# Initialize smoothing function and score containers\n",
    "smooth = SmoothingFunction().method1\n",
    "bleu_scores = {f\"BLEU-{n}\": [] for n in range(1, 5)}"
   ]
  },
  {
   "cell_type": "code",
   "execution_count": 18,
   "metadata": {
    "colab": {
     "base_uri": "https://localhost:8080/"
    },
    "executionInfo": {
     "elapsed": 44,
     "status": "ok",
     "timestamp": 1744868812502,
     "user": {
      "displayName": "Samyak Shrestha (Caesar)",
      "userId": "13083503381857072620"
     },
     "user_tz": 300
    },
    "id": "e07ZzoxfSO3i",
    "outputId": "fd87eba3-048d-48ba-f0bd-5d32ec7a5237"
   },
   "outputs": [
    {
     "name": "stdout",
     "output_type": "stream",
     "text": [
      "Average BLEU Scores: {'BLEU-1': 0.27, 'BLEU-2': 0.1617, 'BLEU-3': 0.1112, 'BLEU-4': 0.0855}\n"
     ]
    }
   ],
   "source": [
    "# Iterate over predictions and compute BLEU-1 to BLEU-4\n",
    "for item in eval_results:\n",
    "    reference = item[\"reference\"].split()\n",
    "    prediction = item[\"prediction\"].split()\n",
    "\n",
    "    bleu_scores[\"BLEU-1\"].append(\n",
    "        sentence_bleu([reference], prediction, weights=(1, 0, 0, 0), smoothing_function=smooth)\n",
    "    )\n",
    "    bleu_scores[\"BLEU-2\"].append(\n",
    "        sentence_bleu([reference], prediction, weights=(0.5, 0.5, 0, 0), smoothing_function=smooth)\n",
    "    )\n",
    "    bleu_scores[\"BLEU-3\"].append(\n",
    "        sentence_bleu([reference], prediction, weights=(1/3, 1/3, 1/3, 0), smoothing_function=smooth)\n",
    "    )\n",
    "    bleu_scores[\"BLEU-4\"].append(\n",
    "        sentence_bleu([reference], prediction, weights=(0.25, 0.25, 0.25, 0.25), smoothing_function=smooth)\n",
    "    )\n",
    "\n",
    "# Compute and display average scores\n",
    "avg_bleu_scores = {metric: round(sum(scores)/len(scores), 4) for metric, scores in bleu_scores.items()}\n",
    "print(\"Average BLEU Scores:\", avg_bleu_scores)"
   ]
  },
  {
   "cell_type": "markdown",
   "metadata": {
    "id": "LKVg5KNMSxLZ"
   },
   "source": [
    "## Step 6: Using GPT-4o as LLM-as-a-Judge (OpenAI Evaluation)\n",
    "\n",
    "In this section, we use **GPT-4o**—a state-of-the-art model from OpenAI—as a neutral third-party judge to evaluate the quality of our model’s predictions against ground truth answers. This is part of the **LLM-as-a-Judge** evaluation methodology, which is growing in popularity as a way to assess open-ended outputs where metrics like BLEU or ROUGE may fall short.\n",
    "\n",
    "**What this section does:**\n",
    "\n",
    "- Loads model predictions from `eval_openbook_predictions.json`\n",
    "- Uses a GPT-4o prompt that provides:\n",
    "  - The question\n",
    "  - The model's generated answer\n",
    "  - The reference (ground-truth) answer\n",
    "- Asks GPT-4o to score the generated answer on a **scale from 1 to 5**, considering relevance, correctness, completeness, and style\n",
    "- Stores all outputs in `gpt4o_judgments_openbook.json` for analysis\n",
    "\n",
    "**Key Functions:**\n",
    "\n",
    "- `ask_gpt_judge()` → Sends a prompt to GPT-4o via the OpenAI API and returns a numeric score\n",
    "- `judged_results` → A list of evaluation records including the question, reference, model prediction, and GPT-4o's score\n",
    "- `np.mean()` → Used at the end to compute the **average evaluation score** across all QA pairs\n",
    "\n",
    "**Why use GPT-4o?**\n",
    "\n",
    "Because LLMs are best judged by **other LLMs** capable of contextual understanding. GPT-4o has been shown to be highly consistent and reliable in comparative evaluations.\n",
    "\n",
    "This evaluation complements our BLEU score by offering a **semantic and qualitative assessment**, helping us better understand the strengths and weaknesses of our fine-tuned model.\n",
    "\n",
    "---"
   ]
  },
  {
   "cell_type": "code",
   "execution_count": 20,
   "metadata": {
    "colab": {
     "base_uri": "https://localhost:8080/"
    },
    "executionInfo": {
     "elapsed": 2045,
     "status": "ok",
     "timestamp": 1744869168346,
     "user": {
      "displayName": "Samyak Shrestha (Caesar)",
      "userId": "13083503381857072620"
     },
     "user_tz": 300
    },
    "id": "EJbvkyz6SSYZ",
    "outputId": "87667e29-bd83-4a1c-a8f4-ba21e7c6d499"
   },
   "outputs": [
    {
     "name": "stdout",
     "output_type": "stream",
     "text": [
      "Enter your OpenAI API key:··········\n"
     ]
    }
   ],
   "source": [
    "os.environ[\"OPENAI_API_KEY\"] = getpass(\"Enter your OpenAI API key:\")"
   ]
  },
  {
   "cell_type": "code",
   "execution_count": 21,
   "metadata": {
    "executionInfo": {
     "elapsed": 1,
     "status": "ok",
     "timestamp": 1744869177824,
     "user": {
      "displayName": "Samyak Shrestha (Caesar)",
      "userId": "13083503381857072620"
     },
     "user_tz": 300
    },
    "id": "SokZJ6ktTkHI"
   },
   "outputs": [],
   "source": [
    "openai.api_key = os.environ[\"OPENAI_API_KEY\"]"
   ]
  },
  {
   "cell_type": "code",
   "execution_count": 22,
   "metadata": {
    "executionInfo": {
     "elapsed": 326,
     "status": "ok",
     "timestamp": 1744869187914,
     "user": {
      "displayName": "Samyak Shrestha (Caesar)",
      "userId": "13083503381857072620"
     },
     "user_tz": 300
    },
    "id": "gUI9JksgTrlr"
   },
   "outputs": [],
   "source": [
    "# Load the API key from environment variable\n",
    "client = OpenAI(api_key=os.getenv(\"OPENAI_API_KEY\"))"
   ]
  },
  {
   "cell_type": "code",
   "execution_count": 23,
   "metadata": {
    "executionInfo": {
     "elapsed": 2,
     "status": "ok",
     "timestamp": 1744869213889,
     "user": {
      "displayName": "Samyak Shrestha (Caesar)",
      "userId": "13083503381857072620"
     },
     "user_tz": 300
    },
    "id": "sryvGvumTt-T"
   },
   "outputs": [],
   "source": [
    "def ask_gpt_judge(question, reference, prediction):\n",
    "    prompt = f\"\"\"\n",
    "You are an expert model evaluator. Given a question, a reference answer, and a model-generated answer that was generated with access to a relevant excerpt from a scientific paper, judge how good the model’s answer is on a scale of 1 to 5. Use the following rubric:\n",
    "\n",
    "1 – Completely irrelevant or hallucinated.\n",
    "2 – Partially related but mostly inaccurate.\n",
    "3 – Mostly accurate but missing key details.\n",
    "4 – Accurate and mostly complete.\n",
    "5 – Nearly identical in meaning to the reference.\n",
    "\n",
    "Be strict but fair. Output ONLY the number.\n",
    "\n",
    "Question: {question}\n",
    "Reference Answer: {reference}\n",
    "Model Prediction: {prediction}\n",
    "\n",
    "Score:\"\"\"\n",
    "\n",
    "    try:\n",
    "        response = client.chat.completions.create(\n",
    "            model=\"gpt-4o\",\n",
    "            messages=[{\"role\": \"user\", \"content\": prompt}],\n",
    "            temperature=0,\n",
    "        )\n",
    "        return response.choices[0].message.content.strip()\n",
    "    except Exception as e:\n",
    "        print(\"Error during evaluation:\\n\")\n",
    "        print(e)\n",
    "        return None"
   ]
  },
  {
   "cell_type": "code",
   "execution_count": 24,
   "metadata": {
    "executionInfo": {
     "elapsed": 2,
     "status": "ok",
     "timestamp": 1744869245608,
     "user": {
      "displayName": "Samyak Shrestha (Caesar)",
      "userId": "13083503381857072620"
     },
     "user_tz": 300
    },
    "id": "aTQf1SrbT0YV"
   },
   "outputs": [],
   "source": [
    "with open(\"eval_openbook_predictions_baseline.json\") as f:\n",
    "    eval_results = json.load(f)"
   ]
  },
  {
   "cell_type": "code",
   "execution_count": 25,
   "metadata": {
    "colab": {
     "base_uri": "https://localhost:8080/"
    },
    "executionInfo": {
     "elapsed": 49278,
     "status": "ok",
     "timestamp": 1744869339725,
     "user": {
      "displayName": "Samyak Shrestha (Caesar)",
      "userId": "13083503381857072620"
     },
     "user_tz": 300
    },
    "id": "p8-p3sg2T8HZ",
    "outputId": "5a5b5e6e-3e91-46d6-b4e3-294906624150"
   },
   "outputs": [
    {
     "name": "stdout",
     "output_type": "stream",
     "text": [
      "Evaluating 1/30\n",
      "Evaluating 2/30\n",
      "Evaluating 3/30\n",
      "Evaluating 4/30\n",
      "Evaluating 5/30\n",
      "Evaluating 6/30\n",
      "Evaluating 7/30\n",
      "Evaluating 8/30\n",
      "Evaluating 9/30\n",
      "Evaluating 10/30\n",
      "Evaluating 11/30\n",
      "Evaluating 12/30\n",
      "Evaluating 13/30\n",
      "Evaluating 14/30\n",
      "Evaluating 15/30\n",
      "Evaluating 16/30\n",
      "Evaluating 17/30\n",
      "Evaluating 18/30\n",
      "Evaluating 19/30\n",
      "Evaluating 20/30\n",
      "Evaluating 21/30\n",
      "Evaluating 22/30\n",
      "Evaluating 23/30\n",
      "Evaluating 24/30\n",
      "Evaluating 25/30\n",
      "Evaluating 26/30\n",
      "Evaluating 27/30\n",
      "Evaluating 28/30\n",
      "Evaluating 29/30\n",
      "Evaluating 30/30\n"
     ]
    }
   ],
   "source": [
    "judged_results = []\n",
    "\n",
    "for i, item in enumerate(eval_results):\n",
    "    print(f\"Evaluating {i+1}/{len(eval_results)}\")\n",
    "    score = ask_gpt_judge(item[\"question\"], item[\"reference\"], item[\"prediction\"])\n",
    "    if score:\n",
    "        judged_results.append({\n",
    "            \"question\": item[\"question\"],\n",
    "            \"reference\": item[\"reference\"],\n",
    "            \"prediction\": item[\"prediction\"],\n",
    "            \"gpt4o_score\": score\n",
    "        })\n",
    "    time.sleep(1.2)"
   ]
  },
  {
   "cell_type": "code",
   "execution_count": 26,
   "metadata": {
    "executionInfo": {
     "elapsed": 8,
     "status": "ok",
     "timestamp": 1744869362134,
     "user": {
      "displayName": "Samyak Shrestha (Caesar)",
      "userId": "13083503381857072620"
     },
     "user_tz": 300
    },
    "id": "382rS0QcUHFL"
   },
   "outputs": [],
   "source": [
    "with open(\"gpt4o_judgments_openbook_baseline.json\", \"w\") as f:\n",
    "    json.dump(judged_results, f, indent=2)"
   ]
  },
  {
   "cell_type": "code",
   "execution_count": 27,
   "metadata": {
    "colab": {
     "base_uri": "https://localhost:8080/"
    },
    "executionInfo": {
     "elapsed": 44,
     "status": "ok",
     "timestamp": 1744869381244,
     "user": {
      "displayName": "Samyak Shrestha (Caesar)",
      "userId": "13083503381857072620"
     },
     "user_tz": 300
    },
    "id": "r85v6ThQUYlN",
    "outputId": "4bd6493b-b783-4045-f671-2e7424baf3bb"
   },
   "outputs": [
    {
     "name": "stdout",
     "output_type": "stream",
     "text": [
      " Question: What is the primary innovation introduced by the LoRI method for parameter-efficient fine-tuning?\n",
      " Reference Answer: LoRI introduces a novel approach that freezes the projection matrices A as random projections and sparsifies the matrices B using task-specific masks, thereby significantly reducing trainable parameters while minimizing cross-task interference.\n",
      " Model Prediction: The primary innovation of LoRI is the combination of freezing the projection matrices A as random projections and sparsifying the matrices B using task-specific masks, which significantly reduces the number of trainable parameters while maintaining strong task performance.\n",
      " GPT-4o Evaluation: 5\n",
      "--------------------------------------------------------------------------------\n",
      " Question: How does LoRI reduce the number of trainable parameters compared to traditional LoRA?\n",
      " Reference Answer: LoRI reduces the number of trainable parameters by keeping matrix A fixed as a random projection and sparsifying matrix B using task-specific masks, eliminating the need to train both matrices and reducing redundancy.\n",
      " Model Prediction: LoRI reduces the number of trainable parameters by freezing the projection matrices A as random projections and sparsifying the matrices B using task-specific masks. This design substantially reduces the number of trainable parameters while maintaining strong task performance.\n",
      " GPT-4o Evaluation: 5\n",
      "--------------------------------------------------------------------------------\n",
      " Question: Why is sparsity in matrix B important in LoRI?\n",
      " Reference Answer: Sparsity in matrix B enables LoRI to retain only the most critical elements necessary for adaptation, reducing parameter count and mitigating cross-task interference during adapter merging and continual learning.\n",
      " Model Prediction: Sparsity in matrix B is important in LoRI because it allows for the isolation of parameter updates across tasks, thereby facilitating continual learning with minimal interference and preserving both safety and task effectiveness. By using task-specific masks, LoRI selectively updates only the most critical elements of B, reducing the number of trainable parameters and minimizing cross-task interference. This design enables LoRI to maintain strong performance on downstream tasks while preserving the safety alignment of the base model.\n",
      " GPT-4o Evaluation: 4\n",
      "--------------------------------------------------------------------------------\n",
      " Question: How does LoRI improve the process of merging adapters in multi-task scenarios?\n",
      " Reference Answer: LoRI enables more effective adapter merging by using fixed, randomly initialized projection matrices A, which maps task-specific adapters into approximately orthogonal subspaces, thus reducing parameter interference.\n",
      " Model Prediction: LoRI improves the process of merging adapters in multi-task scenarios by enabling training-free adapter merging with minimal performance degradation. This is achieved by freezing the projection matrices A as random projections, which maps task-specific adapters into approximately orthogonal subspaces, thereby reducing interference when merging multiple LoRIs.\n",
      " GPT-4o Evaluation: 4\n",
      "--------------------------------------------------------------------------------\n",
      " Question: What mechanism does LoRI use to mitigate catastrophic forgetting in continual learning?\n",
      " Reference Answer: LoRI mitigates catastrophic forgetting by applying task-specific sparse masks to matrix B, which isolates parameter updates across tasks and preserves knowledge from previous adaptations, including safety alignment.\n",
      " Model Prediction: LoRI mitigates catastrophic forgetting in continual learning by leveraging the sparsity of matrices B through task-specific masks. This isolation of parameter updates across tasks facilitates continual learning with minimal interference, preserving both safety and task effectiveness.\n",
      " GPT-4o Evaluation: 5\n",
      "--------------------------------------------------------------------------------\n",
      " Question: On what benchmark did LoRI with 90% sparsity in B outperform LoRA, and by how much?\n",
      " Reference Answer: LoRI with 90% sparsity in B outperformed LoRA by 17.3% on the HumanEval benchmark using the Llama-3 model.\n",
      " Model Prediction: LoRI with 90% sparsity in B outperformed LoRA by 17.3% on HumanEval with Llama-3-8B.\n",
      " GPT-4o Evaluation: 5\n",
      "--------------------------------------------------------------------------------\n",
      " Question: How does LoRI compare to full fine-tuning and other PEFT methods in terms of performance and efficiency?\n",
      " Reference Answer: LoRI matches or outperforms full fine-tuning and other PEFT methods across multiple domains while using up to 95% fewer trainable parameters than LoRA, demonstrating both high performance and high efficiency.\n",
      " Model Prediction: Future work can explore structured sparsity patterns, extending LoRI to multi-modal models, and investigating the use of LoRI in continual learning scenarios with more complex task sequences.\n",
      " GPT-4o Evaluation: 1\n",
      "--------------------------------------------------------------------------------\n",
      " Question: What types of tasks were used to evaluate LoRI's effectiveness?\n",
      " Reference Answer: LoRI was evaluated on a diverse set of tasks, including natural language understanding, mathematical reasoning, code generation, and safety alignment.\n",
      " Model Prediction: Future work can explore structured sparsity patterns, extending LoRI to multi-modal models, and investigating the use of LoRI in continual learning scenarios with more complex task sequences.\n",
      " GPT-4o Evaluation: 1\n",
      "--------------------------------------------------------------------------------\n",
      " Question: What potential future directions do the authors propose for extending LoRI?\n",
      " Reference Answer: The authors suggest exploring structured sparsity patterns like block sparsity or head pruning and adapting LoRI to multi-modal models such as diffusion and vision-language systems.\n",
      " Model Prediction: The authors propose exploring structured sparsity patterns, such as block sparsity, head pruning, or group-wise masking, to improve hardware compatibility. They also suggest extending LoRI to diffusion and vision-language models for multi-modal generation.\n",
      " GPT-4o Evaluation: 4\n",
      "--------------------------------------------------------------------------------\n",
      " Question: What is the broader significance of LoRI in the context of PEFT and LLM deployment?\n",
      " Reference Answer: LoRI provides a lightweight, modular, and scalable solution for adapting LLMs with minimal overhead, making it particularly suited for multi-task learning, safety-critical alignment, and efficient deployment on resource-constrained hardware.\n",
      " Model Prediction: LoRA with Reduced Interference (LoRI) is a significant advancement in parameter-efficient fine-tuning (PEFT) for large language models (LLMs). By reducing the number of trainable parameters while maintaining strong task performance, LoRI addresses the high resource costs associated with fine-tuning LLMs. This work is particularly relevant in scenarios where computational resources are limited, such as in edge devices or for researchers with limited access to large-scale compute infrastructure. Furthermore, LoRI's ability to minimize cross-task interference in multi-task scenarios and support continual learning makes it a valuable tool for building versatile, safety-aligned models that can adapt to a wide range of tasks.\n",
      " GPT-4o Evaluation: 4\n",
      "--------------------------------------------------------------------------------\n",
      " Question: What are the core limitations of traditional LoRA methods that ElaLoRA seeks to address?\n",
      " Reference Answer: ElaLoRA addresses two key limitations of traditional LoRA: the fixed rank allocation across layers, which overlooks the layer-specific importance, and the inability to adapt ranks dynamically during training, which can lead to suboptimal parameter efficiency.\n",
      " Model Prediction: Traditional LoRA methods have fixed rank allocations, which fail to account for layer-specific importance during fine-tuning. This leads to suboptimal performance as essential layers may not receive sufficient capacity, while redundant ranks are maintained. ElaLoRA addresses this limitation by dynamically reallocating computational resources to the most critical layers, ensuring that essential layers receive more capacity while redundant ranks are removed.\n",
      " GPT-4o Evaluation: 4\n",
      "--------------------------------------------------------------------------------\n",
      " Question: Describe the three core components of the ElaLoRA framework.\n",
      " Reference Answer: ElaLoRA's architecture consists of: (1) an SVD-based adaptation strategy for matrix decomposition, (2) an importance score calculation mechanism based on loss gradients to assess rank relevance, and (3) a dynamic rank learning algorithm that reallocates ranks periodically during training to optimize layer-wise adaptation.\n",
      " Model Prediction: 1) SVD-based adaptation strategy: ElaLoRA decomposes the weight matrix using Singular Value Decomposition (SVD) and dynamically adjusts the rank of the matrix.\n",
      "2) Importance score calculation: ElaLoRA calculates the significance of each rank based on loss gradients to determine the importance of each rank during fine-tuning.\n",
      "3) Dynamic rank learning algorithm: ElaLoRA reallocates ranks at scheduled intervals based on the calculated importance scores, ensuring that essential layers receive more capacity while redundant ranks are removed.\n",
      " GPT-4o Evaluation: 5\n",
      "--------------------------------------------------------------------------------\n",
      " Question: How does ElaLoRA’s adaptive strategy improve performance under limited parameter budgets?\n",
      " Reference Answer: ElaLoRA reallocates computational resources to the most critical layers by pruning less important ranks and expanding ranks in essential layers, thus achieving higher performance even under smaller parameter budgets—for example, outperforming other PEFT methods with r=2 compared to their r=4 settings.\n",
      " Model Prediction: ElaLoRA’s adaptive strategy improves performance under limited parameter budgets by dynamically reallocating computational resources to the most critical layers during fine-tuning. This ensures that essential layers receive more capacity while redundant ranks are removed, resulting in more efficient model adaptation and improved task performance.\n",
      " GPT-4o Evaluation: 4\n",
      "--------------------------------------------------------------------------------\n",
      " Question: In what way does ElaLoRA achieve better task alignment during fine-tuning?\n",
      " Reference Answer: ElaLoRA uses gradient-derived importance scores to identify which layers contribute most to task-specific learning, allowing the model to allocate more capacity to those layers and thus improving task alignment and learning efficiency.\n",
      " Model Prediction: ElaLoRA achieves better task alignment during fine-tuning by dynamically pruning and expanding ranks based on importance scores, which are calculated based on loss gradients. This adaptive rank allocation ensures that the most impactful layers receive additional capacity while removing redundant ranks, leading to more efficient model adaptation across diverse NLP and Vision tasks.\n",
      " GPT-4o Evaluation: 4\n",
      "--------------------------------------------------------------------------------\n",
      " Question: What experimental evidence supports the superiority of ElaLoRA over other PEFT methods?\n",
      " Reference Answer: Experiments across NLU, NLG, and vision benchmarks show that ElaLoRA consistently outperforms state-of-the-art PEFT methods in accuracy, particularly under constrained parameter budgets, and demonstrates better GLUE benchmark performance even with fewer trainable parameters.\n",
      " Model Prediction: Our experimental results across multiple Natural Language Understanding (NLU), Natural Language Generation (NLG), and Visual Task benchmarks consistently demonstrate that ElaLoRA outperforms existing PEFT methods under various parameter budgets. For instance, ElaLoRA achieves better average GLUE results with r = 2 than other PEFT methods at r = 4, making it particularly well-suited for resource-constrained environments.\n",
      " GPT-4o Evaluation: 5\n",
      "--------------------------------------------------------------------------------\n",
      " Question: Why is ElaLoRA particularly well-suited for resource-constrained environments?\n",
      " Reference Answer: ElaLoRA's dynamic pruning and expansion mechanism ensures that only the most essential ranks are trained, reducing memory usage and computational cost while maintaining high performance, making it ideal for low-resource scenarios.\n",
      " Model Prediction: ElaLoRA is particularly well-suited for resource-constrained environments because it achieves better average GLUE results with a rank of 2 than other PEFT methods at a rank of 4, which means it requires fewer resources to achieve comparable performance. This makes it an efficient solution for fine-tuning large-scale pre-trained models in environments with limited computational resources.\n",
      " GPT-4o Evaluation: 2\n",
      "--------------------------------------------------------------------------------\n",
      " Question: How does the final rank distribution in ElaLoRA reflect its adaptive learning process?\n",
      " Reference Answer: ElaLoRA’s final rank distribution reveals that higher ranks are allocated to layers deemed more important via importance scores, confirming that the model dynamically concentrates learning capacity on the most impactful parts of the network.\n",
      " Model Prediction: The final rank distribution in ElaLoRA reflects its adaptive learning process by allocating more ranks to the layers that contribute most to task-specific learning, as demonstrated by our analysis of final rank distributions and importance score distributions. This ensures that essential layers receive more capacity while redundant ranks are removed, leading to more efficient model adaptation.\n",
      " GPT-4o Evaluation: 4\n",
      "--------------------------------------------------------------------------------\n",
      " Question: What are the broader implications of ElaLoRA’s design for the future of fine-tuning large models?\n",
      " Reference Answer: ElaLoRA’s design shows that adaptive, importance-based rank allocation can significantly improve parameter efficiency without sacrificing accuracy, suggesting a paradigm shift toward more intelligent and resource-aware fine-tuning strategies.\n",
      " Model Prediction: ElaLoRA’s adaptive rank allocation mechanism offers a scalable and efficient fine-tuning solution, particularly suited for resource-constrained environments. By dynamically adjusting the rank of matrices during fine-tuning, ElaLoRA ensures that essential layers receive more capacity while redundant ranks are removed. This approach can potentially lead to more efficient and effective fine-tuning of large models, enabling better performance with fewer computational resources. As the trend toward larger pre-trained models continues, ElaLoRA’s adaptive rank allocation strategy could become increasingly important for fine-tuning these models in a resource-efficient manner.\n",
      " GPT-4o Evaluation: 4\n",
      "--------------------------------------------------------------------------------\n",
      " Question: What distinguishes ElaLoRA from prior dynamic rank methods like AdaLoRA or IncreLoRA?\n",
      " Reference Answer: While AdaLoRA and IncreLoRA either prune or expand ranks, ElaLoRA is the first to implement both pruning and expansion dynamically during training, offering a more flexible and principled mechanism for allocating parameter capacity.\n",
      " Model Prediction: ElaLoRA is the first method to the best of our knowledge that enables both rank pruning and expansion simultaneously during fine-tuning. Unlike AdaLoRA and IncreLoRA, ElaLoRA dynamically reallocates ranks at scheduled intervals, ensuring that essential layers receive more capacity while redundant ranks are removed. This adaptive rank learning mechanism enables more efficient model adaptation across diverse NLP and Vision tasks.\n",
      " GPT-4o Evaluation: 4\n",
      "--------------------------------------------------------------------------------\n",
      " Question: Why is parameter-efficient fine-tuning increasingly important in the LLM landscape?\n",
      " Reference Answer: As LLMs grow in size, full fine-tuning becomes prohibitively expensive, especially for domain-specific or low-resource settings. PEFT methods like ElaLoRA offer a practical solution by enabling adaptation with minimal compute and storage costs.\n",
      " Model Prediction: Parameter-efficient fine-tuning (PEFT) is increasingly important in the Large Language Model (LLM) landscape because it allows for the adaptation of pre-trained models to specific tasks while significantly reducing the computational and memory requirements compared to full fine-tuning. This is crucial as LLMs continue to grow in size, making it prohibitively expensive to fine-tune them from scratch. PEFT methods like Low-Rank Adaptation (LoRA) have emerged as a popular solution to this problem.\n",
      " GPT-4o Evaluation: 4\n",
      "--------------------------------------------------------------------------------\n",
      " Question: What is the primary goal of the study presented in 'Beyond QA Pairs'?\n",
      " Reference Answer: The study aims to assess the effectiveness of Parameter-Efficient Fine-Tuning (PEFT) for embedding domain-specific facts into LLMs, focusing on the impact of QA pair categorization and synthetic dataset generation techniques.\n",
      " Model Prediction: The primary goal of the study presented in 'Beyond QA Pairs' is to examine the effectiveness of Parameter-Efficient Fine-Tuning (PEFT) for embedding domain-specific facts into Large Language Models (LLMs) by categorizing question-answer (QA) pairs into ‘Factual’ and ‘Conceptual’ classes using a BERT-based classifier. The study aims to improve the fine-tuning process, evaluate the efficiency of synthetic fine-tuning dataset generation techniques, and assess the optimal method for embedding facts into LLMs.\n",
      " GPT-4o Evaluation: 4\n",
      "--------------------------------------------------------------------------------\n",
      " Question: How are QA pairs categorized in this study, and what is the purpose of this categorization?\n",
      " Reference Answer: QA pairs are classified into ‘Factual’ and ‘Conceptual’ categories using a BERT-based classifier. The purpose is to investigate how the nature of QA pairs influences the effectiveness of PEFT.\n",
      " Model Prediction: In this study, QA pairs are categorized into ‘Factual’ and ‘Conceptual’ classes using a BERT-based classifier. The purpose of this categorization is to fine-tune two distinct sets of Llama-2 models using LoRA based on these classifications, with the aim of improving the performance of LLMs in specific domains. The models trained on conceptual datasets significantly outperform those trained on factual datasets.\n",
      " GPT-4o Evaluation: 2\n",
      "--------------------------------------------------------------------------------\n",
      " Question: What were the findings regarding models trained on conceptual vs factual QA datasets?\n",
      " Reference Answer: Models fine-tuned on conceptual datasets consistently outperformed those trained on factual datasets across multiple evaluations.\n",
      " Model Prediction: The fine-tuned Llama-2 7B model significantly outperformed the baseline model in generating product recommendations.\n",
      " GPT-4o Evaluation: 1\n",
      "--------------------------------------------------------------------------------\n",
      " Question: Which synthetic dataset generation techniques are evaluated in this work, and which one performs better?\n",
      " Reference Answer: The paper evaluates D-RAG and D-Naive synthetic data generation methods. D-Naive outperformed D-RAG in fine-tuning effectiveness, largely due to better retrieval performance.\n",
      " Model Prediction: The synthetic dataset generation techniques evaluated in this work are D-RAG and D-Naive. The D-Naive approach demonstrates superior performance.\n",
      " GPT-4o Evaluation: 5\n",
      "--------------------------------------------------------------------------------\n",
      " Question: What was the significance of the product recommendation task in the data center domain?\n",
      " Reference Answer: The task served as a practical demonstration showing that a Llama-2 7B model fine-tuned with PEFT on just 1,000 instruction-based QA pairs significantly outperformed the baseline in generating product recommendations.\n",
      " Model Prediction: The product recommendation task in the data center domain was significant as it demonstrated the effectiveness of the fine-tuned Llama-2 7B model in generating high-quality recommendations compared to the baseline model. This experiment underscored the potential of PEFT in instruction-based applications, even with a relatively small dataset of 1,000 prompt-response pairs.\n",
      " GPT-4o Evaluation: 5\n",
      "--------------------------------------------------------------------------------\n",
      " Question: Why do the authors argue that PEFT may not be optimal for factual embedding?\n",
      " Reference Answer: The study shows that while PEFT is effective for instruction tuning, it struggles with embedding factual information as effectively, likely due to its limited parameter update scope.\n",
      " Model Prediction: The authors argue that PEFT may not be optimal for factual embedding because their experiments show that models trained on conceptual datasets significantly outperform those trained on factual datasets. This trend was consistently observed across all three proctor models, suggesting that PEFT may be more effective for instruction-based tasks rather than factual information embedding.\n",
      " GPT-4o Evaluation: 3\n",
      "--------------------------------------------------------------------------------\n",
      " Question: What conclusions do the authors draw about the volume versus quality of QA data in PEFT?\n",
      " Reference Answer: They conclude that sheer quantity of QA pairs is insufficient; quality and conceptual depth are far more critical for successful PEFT.\n",
      " Model Prediction: The authors conclude that the quality of QA data is more important than the volume in PEFT. They suggest that carefully selecting and categorizing QA pairs can lead to more effective domain-specific applications of LLMs. They also propose that PEFT is particularly advantageous for instruction-based applications, even with a relatively small dataset. However, they also suggest that further research is needed to optimize synthetic data generation techniques like D-RAG for more comprehensive and complete answers.\n",
      " GPT-4o Evaluation: 3\n",
      "--------------------------------------------------------------------------------\n",
      " Question: What limitations of D-RAG were identified in the study?\n",
      " Reference Answer: D-RAG's limitations were attributed to the poor performance of its underlying vector database retriever, leading to suboptimal training data quality.\n",
      " Model Prediction: The limitations of D-RAG identified in the study were primarily due to the suboptimal performance of the vector database retriever. This inefficiency in retrieval impacted the overall effectiveness of the synthetic training data generation technique.\n",
      " GPT-4o Evaluation: 5\n",
      "--------------------------------------------------------------------------------\n",
      " Question: How do the authors suggest future research should improve PEFT for fact embedding?\n",
      " Reference Answer: Future research should explore improvements in retrieval systems used by D-RAG, and consider more refined QA classification and data generation strategies.\n",
      " Model Prediction: The authors suggest that future research should focus on improving the retrieval efficiency of the vector database retriever in the D-RAG technique for synthetic training data generation. This could unlock the full potential of D-RAG, leading to more effective and nuanced fine-tuning methodologies for Large Language Models (LLMs) in embedding factual information.\n",
      " GPT-4o Evaluation: 3\n",
      "--------------------------------------------------------------------------------\n",
      " Question: What is the key insight this paper contributes to the field of LLM fine-tuning?\n",
      " Reference Answer: The paper highlights that PEFT's success hinges more on dataset composition—especially the conceptual quality of QA pairs—than on volume alone, and that careful use-case targeting is essential.\n",
      " Model Prediction: The key insight this paper contributes to the field of LLM fine-tuning is the importance of categorizing question-answer (QA) pairs into ‘Factual’ and ‘Conceptual’ classes for effective domain adaptation. The paper demonstrates that models trained on conceptual datasets significantly outperform those trained on factual datasets, and suggests that PEFT may not be optimal for embedding factual information into LLMs. The paper also compares the efficiency of two synthetic fine-tuning dataset generation techniques, D-RAG and D-Naive, with D-Naive demonstrating superior performance.\n",
      " GPT-4o Evaluation: 3\n",
      "--------------------------------------------------------------------------------\n"
     ]
    }
   ],
   "source": [
    "for sample in judged_results:\n",
    "    print(\" Question:\", sample[\"question\"])\n",
    "    print(\" Reference Answer:\", sample[\"reference\"])\n",
    "    print(\" Model Prediction:\", sample[\"prediction\"])\n",
    "    print(\" GPT-4o Evaluation:\", sample[\"gpt4o_score\"])\n",
    "    print(\"-\" * 80)"
   ]
  },
  {
   "cell_type": "code",
   "execution_count": 28,
   "metadata": {
    "colab": {
     "base_uri": "https://localhost:8080/"
    },
    "executionInfo": {
     "elapsed": 4,
     "status": "ok",
     "timestamp": 1744869459765,
     "user": {
      "displayName": "Samyak Shrestha (Caesar)",
      "userId": "13083503381857072620"
     },
     "user_tz": 300
    },
    "id": "6DslC1dHUdPZ",
    "outputId": "7412226b-a143-46b4-84f5-07084a35ea69"
   },
   "outputs": [
    {
     "name": "stdout",
     "output_type": "stream",
     "text": [
      "Average GPT-4o Evaluation Score: 3.73 out of 5\n"
     ]
    }
   ],
   "source": [
    "# Calculating the average score\n",
    "scores = [int(res[\"gpt4o_score\"]) for res in judged_results if res[\"gpt4o_score\"].isdigit()]\n",
    "average_score = np.mean(scores)\n",
    "print(f\"Average GPT-4o Evaluation Score: {average_score:.2f} out of 5\")"
   ]
  },
  {
   "cell_type": "code",
   "execution_count": 29,
   "metadata": {
    "colab": {
     "base_uri": "https://localhost:8080/"
    },
    "executionInfo": {
     "elapsed": 40,
     "status": "ok",
     "timestamp": 1744869587096,
     "user": {
      "displayName": "Samyak Shrestha (Caesar)",
      "userId": "13083503381857072620"
     },
     "user_tz": 300
    },
    "id": "hRpqyw6aUwZ7",
    "outputId": "817ef63c-4568-425f-a240-927db2c0d9c0"
   },
   "outputs": [
    {
     "name": "stdout",
     "output_type": "stream",
     "text": [
      "Judged results saved to ./data/evaluation/eval_gpt4o_judgments_open_book_baseline.json\n"
     ]
    }
   ],
   "source": [
    "# Saving the results\n",
    "\n",
    "output_path = \"./data/evaluation/eval_gpt4o_judgments_open_book_baseline.json\"\n",
    "\n",
    "os.makedirs(os.path.dirname(output_path), exist_ok=True)\n",
    "\n",
    "with open(output_path, \"w\") as f:\n",
    "    json.dump(judged_results, f, indent=2)\n",
    "\n",
    "print(f\"Judged results saved to {output_path}\")"
   ]
  },
  {
   "cell_type": "markdown",
   "metadata": {
    "id": "iLgXA91vVZYE"
   },
   "source": [
    "## Step 7: Evaluating with BERTScore (Semantic Similarity Metric)\n",
    "\n",
    "In this section, we evaluate the semantic similarity between the model’s predictions and the ground truth answers using **BERTScore**, a metric that leverages contextual embeddings from large pretrained models (like BERT) to assess the *meaning* of the outputs.\n",
    "\n",
    "Unlike BLEU, which only considers surface-level n-gram overlap, BERTScore measures how semantically close the answers are—even when the phrasing differs.\n",
    "\n",
    "### Interpretation:\n",
    "- **BERTScore F1** reflects the degree of **semantic overlap** between model output and human-labeled answer.\n",
    "- A score closer to **1.0** indicates stronger alignment of meaning.\n",
    "- This metric is especially useful in open-ended QA or summarization settings where **exact matching isn't expected**."
   ]
  },
  {
   "cell_type": "code",
   "execution_count": 30,
   "metadata": {
    "executionInfo": {
     "elapsed": 2,
     "status": "ok",
     "timestamp": 1744869639481,
     "user": {
      "displayName": "Samyak Shrestha (Caesar)",
      "userId": "13083503381857072620"
     },
     "user_tz": 300
    },
    "id": "U8ZU6BteVZuy"
   },
   "outputs": [],
   "source": [
    "# Replace `results` with `judged_results` if needed\n",
    "predictions = [item[\"prediction\"] for item in results]\n",
    "references = [item[\"reference\"] for item in results]"
   ]
  },
  {
   "cell_type": "code",
   "execution_count": null,
   "metadata": {
    "id": "5eWrIh5LVcRx"
   },
   "outputs": [],
   "source": [
    "P, R, F1 = bertscore(predictions, references, lang=\"en\", rescale_with_baseline=True)"
   ]
  },
  {
   "cell_type": "code",
   "execution_count": 32,
   "metadata": {
    "colab": {
     "base_uri": "https://localhost:8080/"
    },
    "executionInfo": {
     "elapsed": 8,
     "status": "ok",
     "timestamp": 1744869671459,
     "user": {
      "displayName": "Samyak Shrestha (Caesar)",
      "userId": "13083503381857072620"
     },
     "user_tz": 300
    },
    "id": "QpFXuTSjVeeZ",
    "outputId": "a3ba8b66-86cc-445d-a2dd-b6ab26ac0906"
   },
   "outputs": [
    {
     "name": "stdout",
     "output_type": "stream",
     "text": [
      "Average Precision: 0.3431\n"
     ]
    }
   ],
   "source": [
    "print(f\"Average Precision: {P.mean().item():.4f}\")"
   ]
  },
  {
   "cell_type": "code",
   "execution_count": 33,
   "metadata": {
    "colab": {
     "base_uri": "https://localhost:8080/"
    },
    "executionInfo": {
     "elapsed": 3,
     "status": "ok",
     "timestamp": 1744869679276,
     "user": {
      "displayName": "Samyak Shrestha (Caesar)",
      "userId": "13083503381857072620"
     },
     "user_tz": 300
    },
    "id": "3OJG2zE8VkGM",
    "outputId": "54efaa07-37cc-4c6a-fe85-a515cd80c1d9"
   },
   "outputs": [
    {
     "name": "stdout",
     "output_type": "stream",
     "text": [
      "Average Recall: 0.4696\n"
     ]
    }
   ],
   "source": [
    "print(f\"Average Recall: {R.mean().item():.4f}\")"
   ]
  },
  {
   "cell_type": "code",
   "execution_count": 34,
   "metadata": {
    "colab": {
     "base_uri": "https://localhost:8080/"
    },
    "executionInfo": {
     "elapsed": 10,
     "status": "ok",
     "timestamp": 1744869687528,
     "user": {
      "displayName": "Samyak Shrestha (Caesar)",
      "userId": "13083503381857072620"
     },
     "user_tz": 300
    },
    "id": "KZhOnwW7Vl_k",
    "outputId": "820c7261-012f-4c1b-967a-5cb4f235eef1"
   },
   "outputs": [
    {
     "name": "stdout",
     "output_type": "stream",
     "text": [
      "Average BERTScore (F1): 0.4060\n"
     ]
    }
   ],
   "source": [
    "print(f\"Average BERTScore (F1): {F1.mean().item():.4f}\")"
   ]
  },
  {
   "cell_type": "markdown",
   "metadata": {
    "id": "3osQsT8SXEva"
   },
   "source": [
    "## Step 8: Fixing Metadata"
   ]
  },
  {
   "cell_type": "code",
   "execution_count": null,
   "metadata": {
    "id": "V-pZr7puVoB7"
   },
   "outputs": [],
   "source": []
  }
 ],
 "metadata": {
  "accelerator": "GPU",
  "colab": {
   "authorship_tag": "ABX9TyN5E/CvF8CC8ymuUgsbqLGg",
   "gpuType": "L4",
   "machine_shape": "hm",
   "provenance": []
  },
  "kernelspec": {
   "display_name": "Python 3",
   "name": "python3"
  },
  "language_info": {
   "name": "python"
  }
 },
 "nbformat": 4,
 "nbformat_minor": 0
}
