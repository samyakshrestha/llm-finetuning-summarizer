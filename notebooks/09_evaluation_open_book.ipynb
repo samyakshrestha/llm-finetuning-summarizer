{
 "cells": [
  {
   "cell_type": "markdown",
   "metadata": {
    "id": "h_iaeHKY1Tt7"
   },
   "source": [
    "# Open-Book Evaluation Summary (Instruction-Tuned Mistral-7B)\n",
    "\n",
    "This notebook presents the **open-book evaluation** of a Mistral-7B model fine-tuned via LoRA on instruction-following QA pairs from scientific papers. Unlike closed-book evaluation, the model was given context passages (abstract, introduction, and conclusion) for each question to simulate information-grounded reasoning.\n",
    "\n",
    "### Evaluation Metrics\n",
    "\n",
    "| Metric             | Closed-Book Score | Open-Book Score | Δ Improvement |\n",
    "|--------------------|------------------:|----------------:|--------------:|\n",
    "| **BLEU-1**         | 0.2244            | **0.4010**       | +0.1766       |\n",
    "| **BLEU-4**         | 0.0514            | **0.1625**       | +0.1111       |\n",
    "| **BERTScore (F1)** | 0.3464            | **0.5295**       | +0.1831       |\n",
    "| **LLM-as-Judge**   | 2.27 / 5          | **3.97 / 5**     | +1.70         |\n",
    "\n",
    "\n",
    "### Key Takeaways\n",
    "\n",
    "- **Substantial quality gains** were observed across all metrics when the model was supplied with contextual excerpts.\n",
    "- **Hallucination rate dropped sharply**, as confirmed by GPT-4o evaluations.\n",
    "- The model retained its **instruction-following capability** while leveraging external context to improve factual grounding.\n",
    "- This validates the **effectiveness of context-augmented prompting** even without full RAG infrastructure.\n",
    "\n",
    "> Next Step: Implement **Retrieval-Augmented Generation (RAG)** using FAISS to dynamically select relevant context from a larger paper corpus during inference, followed by final evaluation.\n",
    "\n",
    "---"
   ]
  },
  {
   "cell_type": "markdown",
   "metadata": {
    "id": "M1vDCplML4DO"
   },
   "source": [
    "## Step 1: Mounting Google Drive and Importing Dependencies"
   ]
  },
  {
   "cell_type": "code",
   "execution_count": null,
   "metadata": {
    "colab": {
     "base_uri": "https://localhost:8080/"
    },
    "executionInfo": {
     "elapsed": 14886,
     "status": "ok",
     "timestamp": 1744601819602,
     "user": {
      "displayName": "Samyak Shrestha (Caesar)",
      "userId": "13083503381857072620"
     },
     "user_tz": 300
    },
    "id": "JqDqYowdI2oh",
    "outputId": "13d8b4da-d08c-4acf-d82b-3f70e063bb5b"
   },
   "outputs": [
    {
     "name": "stdout",
     "output_type": "stream",
     "text": [
      "Mounted at /content/drive\n",
      "/content/drive/MyDrive/llm-finetuning-project/llm-finetuning-summarizer\n",
      "data\t\t       gpt4o_judgments.json  notebooks\t      README.md  wandb\n",
      "deployment\t       LICENSE\t\t     project_plan.md  results\n",
      "eval_predictions.json  models\t\t     qa_pairs\t      scripts\n"
     ]
    }
   ],
   "source": [
    "# Mount Google Drive\n",
    "from google.colab import drive, files\n",
    "drive.mount('/content/drive')\n",
    "\n",
    "# Navigate to the repo folder\n",
    "%cd /content/drive/MyDrive/llm-finetuning-project/llm-finetuning-summarizer\n",
    "\n",
    "# List repo contents\n",
    "!ls"
   ]
  },
  {
   "cell_type": "code",
   "execution_count": null,
   "metadata": {
    "colab": {
     "base_uri": "https://localhost:8080/"
    },
    "executionInfo": {
     "elapsed": 68090,
     "status": "ok",
     "timestamp": 1744601892186,
     "user": {
      "displayName": "Samyak Shrestha (Caesar)",
      "userId": "13083503381857072620"
     },
     "user_tz": 300
    },
    "id": "Jzs3KRIfJOzs",
    "outputId": "4d89823d-8e55-4732-a4d1-cf41db173918"
   },
   "outputs": [
    {
     "name": "stdout",
     "output_type": "stream",
     "text": [
      "\u001b[?25l   \u001b[90m━━━━━━━━━━━━━━━━━━━━━━━━━━━━━━━━━━━━━━━━\u001b[0m \u001b[32m0.0/491.2 kB\u001b[0m \u001b[31m?\u001b[0m eta \u001b[36m-:--:--\u001b[0m\r",
      "\u001b[2K   \u001b[90m━━━━━━━━━━━━━━━━━━━━━━━━━━━━━━━━━━━━━━━━\u001b[0m \u001b[32m491.2/491.2 kB\u001b[0m \u001b[31m16.5 MB/s\u001b[0m eta \u001b[36m0:00:00\u001b[0m\n",
      "\u001b[?25h\u001b[?25l   \u001b[90m━━━━━━━━━━━━━━━━━━━━━━━━━━━━━━━━━━━━━━━━\u001b[0m \u001b[32m0.0/61.1 kB\u001b[0m \u001b[31m?\u001b[0m eta \u001b[36m-:--:--\u001b[0m\r",
      "\u001b[2K   \u001b[90m━━━━━━━━━━━━━━━━━━━━━━━━━━━━━━━━━━━━━━━━\u001b[0m \u001b[32m61.1/61.1 kB\u001b[0m \u001b[31m5.5 MB/s\u001b[0m eta \u001b[36m0:00:00\u001b[0m\n",
      "\u001b[?25h\u001b[?25l   \u001b[90m━━━━━━━━━━━━━━━━━━━━━━━━━━━━━━━━━━━━━━━━\u001b[0m \u001b[32m0.0/116.3 kB\u001b[0m \u001b[31m?\u001b[0m eta \u001b[36m-:--:--\u001b[0m\r",
      "\u001b[2K   \u001b[90m━━━━━━━━━━━━━━━━━━━━━━━━━━━━━━━━━━━━━━━━\u001b[0m \u001b[32m116.3/116.3 kB\u001b[0m \u001b[31m10.4 MB/s\u001b[0m eta \u001b[36m0:00:00\u001b[0m\n",
      "\u001b[?25h\u001b[?25l   \u001b[90m━━━━━━━━━━━━━━━━━━━━━━━━━━━━━━━━━━━━━━━━\u001b[0m \u001b[32m0.0/183.9 kB\u001b[0m \u001b[31m?\u001b[0m eta \u001b[36m-:--:--\u001b[0m\r",
      "\u001b[2K   \u001b[90m━━━━━━━━━━━━━━━━━━━━━━━━━━━━━━━━━━━━━━━━\u001b[0m \u001b[32m183.9/183.9 kB\u001b[0m \u001b[31m16.3 MB/s\u001b[0m eta \u001b[36m0:00:00\u001b[0m\n",
      "\u001b[2K   \u001b[90m━━━━━━━━━━━━━━━━━━━━━━━━━━━━━━━━━━━━━━━━\u001b[0m \u001b[32m143.5/143.5 kB\u001b[0m \u001b[31m12.9 MB/s\u001b[0m eta \u001b[36m0:00:00\u001b[0m\n",
      "\u001b[2K   \u001b[90m━━━━━━━━━━━━━━━━━━━━━━━━━━━━━━━━━━━━━━━━\u001b[0m \u001b[32m363.4/363.4 MB\u001b[0m \u001b[31m3.4 MB/s\u001b[0m eta \u001b[36m0:00:00\u001b[0m\n",
      "\u001b[2K   \u001b[90m━━━━━━━━━━━━━━━━━━━━━━━━━━━━━━━━━━━━━━━━\u001b[0m \u001b[32m13.8/13.8 MB\u001b[0m \u001b[31m110.5 MB/s\u001b[0m eta \u001b[36m0:00:00\u001b[0m\n",
      "\u001b[2K   \u001b[90m━━━━━━━━━━━━━━━━━━━━━━━━━━━━━━━━━━━━━━━━\u001b[0m \u001b[32m24.6/24.6 MB\u001b[0m \u001b[31m84.4 MB/s\u001b[0m eta \u001b[36m0:00:00\u001b[0m\n",
      "\u001b[2K   \u001b[90m━━━━━━━━━━━━━━━━━━━━━━━━━━━━━━━━━━━━━━━━\u001b[0m \u001b[32m883.7/883.7 kB\u001b[0m \u001b[31m54.6 MB/s\u001b[0m eta \u001b[36m0:00:00\u001b[0m\n",
      "\u001b[2K   \u001b[90m━━━━━━━━━━━━━━━━━━━━━━━━━━━━━━━━━━━━━━━━\u001b[0m \u001b[32m664.8/664.8 MB\u001b[0m \u001b[31m2.1 MB/s\u001b[0m eta \u001b[36m0:00:00\u001b[0m\n",
      "\u001b[2K   \u001b[90m━━━━━━━━━━━━━━━━━━━━━━━━━━━━━━━━━━━━━━━━\u001b[0m \u001b[32m211.5/211.5 MB\u001b[0m \u001b[31m4.8 MB/s\u001b[0m eta \u001b[36m0:00:00\u001b[0m\n",
      "\u001b[2K   \u001b[90m━━━━━━━━━━━━━━━━━━━━━━━━━━━━━━━━━━━━━━━━\u001b[0m \u001b[32m56.3/56.3 MB\u001b[0m \u001b[31m41.0 MB/s\u001b[0m eta \u001b[36m0:00:00\u001b[0m\n",
      "\u001b[2K   \u001b[90m━━━━━━━━━━━━━━━━━━━━━━━━━━━━━━━━━━━━━━━━\u001b[0m \u001b[32m127.9/127.9 MB\u001b[0m \u001b[31m18.0 MB/s\u001b[0m eta \u001b[36m0:00:00\u001b[0m\n",
      "\u001b[2K   \u001b[90m━━━━━━━━━━━━━━━━━━━━━━━━━━━━━━━━━━━━━━━━\u001b[0m \u001b[32m207.5/207.5 MB\u001b[0m \u001b[31m5.2 MB/s\u001b[0m eta \u001b[36m0:00:00\u001b[0m\n",
      "\u001b[2K   \u001b[90m━━━━━━━━━━━━━━━━━━━━━━━━━━━━━━━━━━━━━━━━\u001b[0m \u001b[32m21.1/21.1 MB\u001b[0m \u001b[31m91.7 MB/s\u001b[0m eta \u001b[36m0:00:00\u001b[0m\n",
      "\u001b[2K   \u001b[90m━━━━━━━━━━━━━━━━━━━━━━━━━━━━━━━━━━━━━━━━\u001b[0m \u001b[32m194.8/194.8 kB\u001b[0m \u001b[31m17.1 MB/s\u001b[0m eta \u001b[36m0:00:00\u001b[0m\n",
      "\u001b[?25h\u001b[31mERROR: pip's dependency resolver does not currently take into account all the packages that are installed. This behaviour is the source of the following dependency conflicts.\n",
      "gcsfs 2025.3.2 requires fsspec==2025.3.2, but you have fsspec 2024.12.0 which is incompatible.\u001b[0m\u001b[31m\n",
      "\u001b[0m"
     ]
    }
   ],
   "source": [
    "!pip install datasets bert-score openai --quiet"
   ]
  },
  {
   "cell_type": "code",
   "execution_count": null,
   "metadata": {
    "id": "eBQlnI60Jd8v"
   },
   "outputs": [],
   "source": [
    "from transformers import AutoTokenizer, AutoModelForCausalLM, pipeline\n",
    "from peft import PeftModel\n",
    "from huggingface_hub import login\n",
    "import torch\n",
    "from datasets import load_from_disk, load_dataset\n",
    "import json\n",
    "import os\n",
    "from nltk.translate.bleu_score import sentence_bleu, SmoothingFunction\n",
    "from google.colab import userdata\n",
    "import time\n",
    "import openai\n",
    "from openai import OpenAI\n",
    "from getpass import getpass\n",
    "import random\n",
    "import numpy as np\n",
    "from bert_score import score as bertscore"
   ]
  },
  {
   "cell_type": "markdown",
   "metadata": {
    "id": "pFCKlTXeL_4P"
   },
   "source": [
    "## Step 2: Loading the Validation Set for Evaluation"
   ]
  },
  {
   "cell_type": "code",
   "execution_count": null,
   "metadata": {
    "colab": {
     "base_uri": "https://localhost:8080/"
    },
    "executionInfo": {
     "elapsed": 636,
     "status": "ok",
     "timestamp": 1744601931798,
     "user": {
      "displayName": "Samyak Shrestha (Caesar)",
      "userId": "13083503381857072620"
     },
     "user_tz": 300
    },
    "id": "3GAG-pyCKJw3",
    "outputId": "e86368a1-047f-4b19-a02e-d0c7e99db468"
   },
   "outputs": [
    {
     "name": "stdout",
     "output_type": "stream",
     "text": [
      "Loaded 30 QA pairs for evaluation.\n"
     ]
    }
   ],
   "source": [
    "eval_path = \"./data/eval_with_context.jsonl\"\n",
    "eval_pairs = []\n",
    "\n",
    "with open(eval_path, \"r\") as f:\n",
    "    for line in f:\n",
    "        eval_pairs.append(json.loads(line.strip()))\n",
    "\n",
    "print(f\"Loaded {len(eval_pairs)} QA pairs for evaluation.\")"
   ]
  },
  {
   "cell_type": "code",
   "execution_count": null,
   "metadata": {
    "colab": {
     "base_uri": "https://localhost:8080/"
    },
    "executionInfo": {
     "elapsed": 10,
     "status": "ok",
     "timestamp": 1744601933820,
     "user": {
      "displayName": "Samyak Shrestha (Caesar)",
      "userId": "13083503381857072620"
     },
     "user_tz": 300
    },
    "id": "rwivzT1_M8qZ",
    "outputId": "136424da-9ce1-4e96-cb6d-80fe0ae18b57"
   },
   "outputs": [
    {
     "data": {
      "text/plain": [
       "{'question': 'What is the primary innovation introduced by the LoRI method for parameter-efficient fine-tuning?',\n",
       " 'answer': 'LoRI introduces a novel approach that freezes the projection matrices A as random projections and sparsifies the matrices B using task-specific masks, thereby significantly reducing trainable parameters while minimizing cross-task interference.',\n",
       " 'context': 'Abstract:\\n\\nLow-Rank Adaptation (LoRA) has emerged as a popular parameter- efficient fine-tuning (PEFT) method for Large Language Models (LLMs), yet it still incurs notable overhead and suffers from parameter interference in multi-task scenarios. We propose LoRA with Reduced Interference (LoRI), a simple yet effective approach that freezes the projection matrices A as random projections and sparsifies the matrices B using task-specific masks. This design substantially reduces the number of trainable parameters while maintaining strong task performance. Moreover, LoRI minimizes cross-task interference in adapter merging by leveraging the orthogonality between adapter subspaces, and supports continual learning by using sparsity to mitigate catastrophic forgetting. Extensive experiments across natural language understanding, mathematical reasoning, code generation, and safety alignment tasks demonstrate that LoRI outperforms full fine-tuning and existing PEFT methods, while using up to 95% fewer trainable parameters than LoRA. In multi-task experiments, LoRI enables effective adapter merging and continual learning with reduced cross-task interference.\\n\\nIntroduction:\\n\\nLarge language models (LLMs) have transformed deep learning, showcasing remarkable capabilities across various domains. However, their deployment remains computationally demanding, particularly when fine-tuning is required to adapt to downstream tasks or align with human preferences. To mitigate the high resource costs, researchers have developed a range of parameter-efficient fine-tuning (PEFT) techniques. Among these techniques, LoRA has gained widespread adoption. Nevertheless, LoRA still introduces notable memory overhead, particularly in large-scale models. Consequently, recent research has focused on further optimizing LoRA by reducing the number of trainable parameters without compromising performance.\\n\\nRecent studies have shown that delta parameters – the differences between fine-tuned and pretrained model weights – exhibit significant redundancy. Motivated by the effectiveness of random projections and the observed redundancy in delta parameters, we propose LoRA with Reduced Interference (LoRI). LoRI keeps the low-rank matrices A fixed as random projections, while training the matrices B using task-specific sparse masks. To retain the most critical elements of B, LoRI performs a calibration process to extract sparse masks by selecting the highest-magnitude elements across all layers and projections. As shown in Figure 1(a), LoRI maintains performance even with 90% sparsity in B while keeping A frozen. This demonstrates that adaptation does not require updating A, and that B has considerable redundancy. By applying more constrained updates than LoRA, LoRI significantly reduces the number of trainable parameters while better preserving the pretrained model’s knowledge during adaptation.\\n\\nMulti-task learning is essential for enabling versatile models with multi-task capabilities, which is traditionally performed via joint training on a combination of task-specific datasets. However, training large models on this data mixture is prohibitively expensive in terms of time and compute. Model merging is a training-free alternative for building powerful models by combining existing ones. This approach is well-suited for merging LoRA adapters to enable multi-task capabilities within a single LoRA. However, as shown in Figure 1(b), directly merging heterogeneous LoRAs often results in parameter interference, leading to degraded performance in the merged LoRA compared to single-task LoRAs. Additionally, many existing merging methods require trial-and-error to identify the optimal method for a specific combination of tasks. LoRI tackles these challenges by enabling adapter merging without manual selection of merging methods. By using fixed, randomly initialized projection A, LoRI maps task-specific adapters into approximately orthogonal subspaces, thereby reducing interference when merging multiple LoRIs.\\n\\nBeyond multi-tasking, safety-critical scenarios require that each newly introduced adapter enhances model capabilities while preserving the safety alignment of the pretrained base model. LoRI provides a lightweight continual learning approach for adapting models while preserving safety, where training is performed sequentially across tasks. The strategy involves first fine-tuning an adapter on safety data to establish alignment, followed by separate adaptation to each downstream task. However, as illustrated in Figure 1(c), continual learning often leads to catastrophic forgetting, wherein the adaptation to new tasks substantially compromises previously acquired knowledge. LoRI mitigates forgetting by leveraging the sparsity of matrices B through task-specific masks. This isolation of parameter updates across tasks facilitates continual learning with minimal interference, preserving both safety and task effectiveness.\\n\\nTo evaluate the effectiveness of LoRI, we conduct extensive experiments across a diverse suite of benchmarks spanning natural language understanding (NLU), mathematical reasoning, code generation, and safety alignment tasks. Using Llama-3-8B and Mistral-7B as base models, our results show that LoRI achieves performance comparable to – or better than – full fine-tuning (FFT), LoRA, and other PEFT methods, while using up to 95% fewer trainable parameters than LoRA. Notably, LoRI with 90% sparsity in B surpasses LoRA by 17.3% on HumanEval with Llama-3. Beyond single-task adaptation, we evaluate LoRI in multi-task settings, including adapter merging and continual learning scenarios. Concatenated merging of LoRI adapters consistently outperforms LoRA adapters overall, closely matching the performance of single-task LoRA baseline. In continual learning, LoRI significantly outperforms LoRA in mitigating catastrophic forgetting of safety alignment, while maintaining strong performance on downstream tasks.\\n\\n\\nConclusion:\\n\\nIn this work, we introduced LoRI, a simple yet effective approach to parameter-efficient fine-tuning (PEFT) that substantially reduces trainable parameters while minimizing cross-task interference. By freezing the projection matrices A as random projections and sparsifying B using task-specific masks, LoRI achieves strong single-task performance across diverse domains – including natural language understanding, mathematical reasoning, code generation, and safety alignment – while reducing trainable parameters by up to 95% compared to LoRA. Furthermore, LoRI enables training-free adapter merging with minimal performance degradation, and supports continual learning with significantly reduced catastrophic forgetting. It also provides a lightweight approach to building safety adapters that preserve the safety alignment of the base model.\\n\\nFuture Work. We identify several promising avenues for extending this work. While LoRI currently leverages unstructured magnitude-based sparsity, future research can explore structured sparsity patterns – such as block sparsity, head pruning, or group-wise masking – which may offer better hardware compatibility. Additionally, although this study focuses on LLMs, the core design of LoRI is modality-agnostic. Extending LoRI to diffusion and vision-language models for multi-modal generation is a promising direction, given the growing impact of adapter-based fine-tuning.'}"
      ]
     },
     "execution_count": 5,
     "metadata": {},
     "output_type": "execute_result"
    }
   ],
   "source": [
    "eval_pairs[0]"
   ]
  },
  {
   "cell_type": "markdown",
   "metadata": {
    "id": "hGpqn9X1NKPp"
   },
   "source": [
    "## Step 3: Loading Saved Model"
   ]
  },
  {
   "cell_type": "code",
   "execution_count": null,
   "metadata": {
    "id": "7CPh2dc6M-Q4"
   },
   "outputs": [],
   "source": [
    "# Load merged model and tokenizer\n",
    "model_path = \"./models/merged-finetuned-mistral\""
   ]
  },
  {
   "cell_type": "code",
   "execution_count": null,
   "metadata": {
    "id": "Nm1F5NnyNQTV"
   },
   "outputs": [],
   "source": [
    "tokenizer = AutoTokenizer.from_pretrained(model_path)"
   ]
  },
  {
   "cell_type": "code",
   "execution_count": null,
   "metadata": {
    "id": "7KMNhtw9NT6H"
   },
   "outputs": [],
   "source": [
    "tokenizer.pad_token = tokenizer.eos_token"
   ]
  },
  {
   "cell_type": "code",
   "execution_count": null,
   "metadata": {
    "colab": {
     "base_uri": "https://localhost:8080/",
     "height": 49,
     "referenced_widgets": [
      "a18b5a6d54a44cde82be121031866b80",
      "c4b11cda4b1f401da55b1e0851d42d2d",
      "ec35a4ba3b6148878a7a10eb20ada30e",
      "578067cf52c441bd83f59fdac9e14b65",
      "5b4a8cf0c1e444f8a2209717d77c1dba",
      "2b0176a2f9534ec4a1d8900acb0f98e0",
      "544f93c9441e4d809c07cf2b0ea4f122",
      "11899dfc172c4041b36e3d466dfe7953",
      "40c6f68cdce842debc1b30480ae11a90",
      "130bd77949894659b54b116b9c726b5e",
      "b0faa6c5af054f08818201994a15fa8d"
     ]
    },
    "executionInfo": {
     "elapsed": 240323,
     "status": "ok",
     "timestamp": 1744602182360,
     "user": {
      "displayName": "Samyak Shrestha (Caesar)",
      "userId": "13083503381857072620"
     },
     "user_tz": 300
    },
    "id": "tRfAw5OnNXd8",
    "outputId": "5f610205-7e85-4aa4-d1f1-8ac7b7b2352f"
   },
   "outputs": [
    {
     "data": {
      "application/vnd.jupyter.widget-view+json": {
       "model_id": "a18b5a6d54a44cde82be121031866b80",
       "version_major": 2,
       "version_minor": 0
      },
      "text/plain": [
       "Loading checkpoint shards:   0%|          | 0/3 [00:00<?, ?it/s]"
      ]
     },
     "metadata": {},
     "output_type": "display_data"
    }
   ],
   "source": [
    "model = AutoModelForCausalLM.from_pretrained(model_path, torch_dtype=torch.float16, device_map=\"auto\")"
   ]
  },
  {
   "cell_type": "code",
   "execution_count": null,
   "metadata": {
    "colab": {
     "base_uri": "https://localhost:8080/"
    },
    "executionInfo": {
     "elapsed": 56,
     "status": "ok",
     "timestamp": 1744602182434,
     "user": {
      "displayName": "Samyak Shrestha (Caesar)",
      "userId": "13083503381857072620"
     },
     "user_tz": 300
    },
    "id": "qRm89FBMPron",
    "outputId": "25fbe4d5-cdda-43f3-aba5-aa65ae653c22"
   },
   "outputs": [
    {
     "name": "stdout",
     "output_type": "stream",
     "text": [
      "Model and tokenizer successfully loaded.\n"
     ]
    }
   ],
   "source": [
    "model.eval()\n",
    "print(\"Model and tokenizer successfully loaded.\")"
   ]
  },
  {
   "cell_type": "markdown",
   "metadata": {
    "id": "kFlEo8tvRzAp"
   },
   "source": [
    "## Step 4: Generating Model Predictions\n",
    "\n",
    "In this section, we evaluate the performance of our fine-tuned Mistral-7B model on a set of *context-rich QA pairs*. Each sample contains:\n",
    "- A **context** (drawn from the abstract, introduction, and conclusion of a scientific paper),\n",
    "- A **question** (designed to probe the model's semantic reasoning), and\n",
    "- A **reference answer** (manually crafted and grounded in the given context).\n",
    "\n",
    "We pass the model the following formatted prompt:\n",
    "\n",
    "``Context: {context}``\n",
    "\n",
    "``Question: {question}\n",
    "Answer:``\n",
    "\n",
    "\n",
    "Using greedy decoding (`do_sample=False`) ensures deterministic outputs for reproducibility. The predictions are stripped and stored alongside their corresponding question and reference answer.\n",
    "\n",
    "The result is saved to a file named `eval_predictions_with_context.json`, which will later be used for downstream evaluation using both **BLEU score** and **LLM-as-judge** metrics.\n",
    "\n",
    "This step gives us the model's raw, unaided reasoning ability in an open-book setting—where it has access to all necessary factual context, but must *still* learn how to synthesize, reason, and generate semantically aligned answers."
   ]
  },
  {
   "cell_type": "code",
   "execution_count": null,
   "metadata": {
    "id": "794ekY2GRzfd"
   },
   "outputs": [],
   "source": [
    "def generate_answer_with_context(context: str, question: str) -> str:\n",
    "    prompt = f\"Context:\\n{context}\\n\\nQuestion: {question}\\nAnswer:\"\n",
    "\n",
    "    inputs = tokenizer(\n",
    "        prompt,\n",
    "        return_tensors=\"pt\",\n",
    "        padding=True,\n",
    "        truncation=True,\n",
    "        max_length=2048\n",
    "    ).to(model.device)\n",
    "\n",
    "    with torch.no_grad():\n",
    "        outputs = model.generate(\n",
    "            input_ids=inputs[\"input_ids\"],\n",
    "            attention_mask=inputs[\"attention_mask\"],\n",
    "            max_new_tokens=512,\n",
    "            do_sample=False  # Greedy decoding\n",
    "        )\n",
    "\n",
    "    decoded = tokenizer.decode(outputs[0], skip_special_tokens=True)\n",
    "    return decoded.split(\"Answer:\")[-1].strip()"
   ]
  },
  {
   "cell_type": "code",
   "execution_count": null,
   "metadata": {
    "id": "0uNalMr-S9yD"
   },
   "outputs": [],
   "source": [
    "# Run predictions\n",
    "results = []\n",
    "\n",
    "for item in eval_pairs:\n",
    "    question = item[\"question\"]\n",
    "    reference = item[\"answer\"]\n",
    "    context = item[\"context\"]\n",
    "\n",
    "    prediction = generate_answer_with_context(context, question)\n",
    "\n",
    "    results.append({\n",
    "        \"question\": question,\n",
    "        \"reference\": reference,\n",
    "        \"context\": context,\n",
    "        \"prediction\": prediction\n",
    "    })"
   ]
  },
  {
   "cell_type": "code",
   "execution_count": null,
   "metadata": {
    "id": "IEGcn_s1TAu-"
   },
   "outputs": [],
   "source": [
    "# Save for evaluation\n",
    "with open(\"eval_openbook_predictions.json\", \"w\") as f:\n",
    "    json.dump(results, f, indent=2)"
   ]
  },
  {
   "cell_type": "code",
   "execution_count": null,
   "metadata": {
    "colab": {
     "base_uri": "https://localhost:8080/"
    },
    "executionInfo": {
     "elapsed": 174,
     "status": "ok",
     "timestamp": 1744603360731,
     "user": {
      "displayName": "Samyak Shrestha (Caesar)",
      "userId": "13083503381857072620"
     },
     "user_tz": 300
    },
    "id": "ko0-bz6mdeKu",
    "outputId": "267d319a-51ff-40ca-ff0e-f52c7bad4932"
   },
   "outputs": [
    {
     "name": "stdout",
     "output_type": "stream",
     "text": [
      "Predictions saved to ./data/evaluation/eval_predictions_open_book.json\n"
     ]
    }
   ],
   "source": [
    "output_path = \"./data/evaluation/eval_predictions_open_book.json\"\n",
    "\n",
    "os.makedirs(os.path.dirname(output_path), exist_ok=True)\n",
    "\n",
    "with open(output_path, \"w\") as f:\n",
    "    json.dump(results, f, indent=2)\n",
    "\n",
    "print(f\"Predictions saved to {output_path}\")"
   ]
  },
  {
   "cell_type": "markdown",
   "metadata": {
    "id": "OdudKgsReGG-"
   },
   "source": [
    "## Step 5: BLEU Score Evaluation\n",
    "\n",
    "In this section, we evaluate our fine-tuned model using the **BLEU (Bilingual Evaluation Understudy)** score, a standard metric for evaluating the quality of generated text by comparing it to a reference answer.\n",
    "\n",
    "### What is BLEU?\n",
    "BLEU measures *n-gram overlap* between the model's prediction and the reference answer:\n",
    "- **BLEU-1**: unigram overlap (word-level similarity)\n",
    "- **BLEU-2**: bigram overlap (2-word chunks)\n",
    "- **BLEU-3**: trigram overlap\n",
    "- **BLEU-4**: 4-gram overlap (more stringent)\n",
    "\n",
    "### Components of the Code:\n",
    "- `weights=(1, 0, 0, 0)`: Measures unigram overlap only (BLEU-1).\n",
    "- `smoothing_function=method1`: Prevents the BLEU score from dropping to 0 when there are no exact n-gram matches. This is useful for short or paraphrased responses.\n",
    "- We iterate over our evaluation dataset and compute BLEU-1 through BLEU-4 for each response.\n",
    "\n",
    "### Limitations:\n",
    "BLEU is a **surface-level** metric:\n",
    "- It penalizes paraphrasing.\n",
    "- It doesn't understand meaning—only *form*.\n",
    "- It is useful for rough comparison, but **not sufficient alone** to assess model quality.\n",
    "\n",
    "Hence, we will also perform **qualitative evaluation** using *LLM-as-a-Judge* in the next step.\n",
    "\n",
    "### Results:\n",
    "Our average scores were:\n",
    "- BLEU-1: *e.g., 0.22*\n",
    "- BLEU-2: *e.g., 0.11*\n",
    "- BLEU-3: *e.g., 0.07*\n",
    "- BLEU-4: *e.g., 0.05*\n",
    "\n",
    "These low scores are expected, since:\n",
    "1. The evaluation was *closed-book* (no document context).\n",
    "2. The questions were from **papers published in 2025**, after the model's training cutoff.\n",
    "3. The model had not seen any of these papers during fine-tuning.\n",
    "\n",
    "**Conclusion**: BLEU gives us a sense of lexical similarity. In high-difficulty settings like this one, it must be supplemented with qualitative evaluation.\n",
    "\n",
    "> Current Result:  \n",
    "> `Average BLEU Scores: {'BLEU-1': 0.401, 'BLEU-2': 0.2655, 'BLEU-3': 0.2033, 'BLEU-4': 0.1625}`  \n",
    "> *This is a significant improvement over our BLEU Score from the closed notebook evaluation:\n",
    "> `Average BLEU Scores: {'BLEU-1': 0.2244, 'BLEU-2': 0.1126, 'BLEU-3': 0.0787, 'BLEU-4': 0.0514}`. This shows that our model is producing not just word-matching, but contextually fluent, semantically faithful answers when given the context.*"
   ]
  },
  {
   "cell_type": "code",
   "execution_count": null,
   "metadata": {
    "id": "DfAwsI8Cd8Wg"
   },
   "outputs": [],
   "source": [
    "# Load predictions with context\n",
    "with open(\"eval_openbook_predictions.json\", \"r\") as f:\n",
    "    eval_results = json.load(f)"
   ]
  },
  {
   "cell_type": "code",
   "execution_count": null,
   "metadata": {
    "id": "iK3loTgMh9W1"
   },
   "outputs": [],
   "source": [
    "# Initialize smoothing function and score containers\n",
    "smooth = SmoothingFunction().method1\n",
    "bleu_scores = {f\"BLEU-{n}\": [] for n in range(1, 5)}"
   ]
  },
  {
   "cell_type": "code",
   "execution_count": null,
   "metadata": {
    "colab": {
     "base_uri": "https://localhost:8080/"
    },
    "executionInfo": {
     "elapsed": 33,
     "status": "ok",
     "timestamp": 1744604584101,
     "user": {
      "displayName": "Samyak Shrestha (Caesar)",
      "userId": "13083503381857072620"
     },
     "user_tz": 300
    },
    "id": "HdfKsbK8iHrg",
    "outputId": "ace53688-fb98-4dd2-cdcb-f151af7039de"
   },
   "outputs": [
    {
     "name": "stdout",
     "output_type": "stream",
     "text": [
      "Average BLEU Scores: {'BLEU-1': 0.401, 'BLEU-2': 0.2655, 'BLEU-3': 0.2033, 'BLEU-4': 0.1625}\n"
     ]
    }
   ],
   "source": [
    "# Iterate over predictions and compute BLEU-1 to BLEU-4\n",
    "for item in eval_results:\n",
    "    reference = item[\"reference\"].split()\n",
    "    prediction = item[\"prediction\"].split()\n",
    "\n",
    "    bleu_scores[\"BLEU-1\"].append(\n",
    "        sentence_bleu([reference], prediction, weights=(1, 0, 0, 0), smoothing_function=smooth)\n",
    "    )\n",
    "    bleu_scores[\"BLEU-2\"].append(\n",
    "        sentence_bleu([reference], prediction, weights=(0.5, 0.5, 0, 0), smoothing_function=smooth)\n",
    "    )\n",
    "    bleu_scores[\"BLEU-3\"].append(\n",
    "        sentence_bleu([reference], prediction, weights=(1/3, 1/3, 1/3, 0), smoothing_function=smooth)\n",
    "    )\n",
    "    bleu_scores[\"BLEU-4\"].append(\n",
    "        sentence_bleu([reference], prediction, weights=(0.25, 0.25, 0.25, 0.25), smoothing_function=smooth)\n",
    "    )\n",
    "\n",
    "# Compute and display average scores\n",
    "avg_bleu_scores = {metric: round(sum(scores)/len(scores), 4) for metric, scores in bleu_scores.items()}\n",
    "print(\"Average BLEU Scores:\", avg_bleu_scores)"
   ]
  },
  {
   "cell_type": "markdown",
   "metadata": {
    "id": "0R2ENzx2oCVu"
   },
   "source": [
    "## Step 6: Using GPT-4o as LLM-as-a-Judge (OpenAI Evaluation)\n",
    "\n",
    "In this section, we use **GPT-4o**—a state-of-the-art model from OpenAI—as a neutral third-party judge to evaluate the quality of our model’s predictions against ground truth answers. This is part of the **LLM-as-a-Judge** evaluation methodology, which is growing in popularity as a way to assess open-ended outputs where metrics like BLEU or ROUGE may fall short.\n",
    "\n",
    "**What this section does:**\n",
    "\n",
    "- Loads model predictions from `eval_openbook_predictions.json`\n",
    "- Uses a GPT-4o prompt that provides:\n",
    "  - The question\n",
    "  - The model's generated answer\n",
    "  - The reference (ground-truth) answer\n",
    "- Asks GPT-4o to score the generated answer on a **scale from 1 to 5**, considering relevance, correctness, completeness, and style\n",
    "- Stores all outputs in `gpt4o_judgments_openbook.json` for analysis\n",
    "\n",
    "**Key Functions:**\n",
    "\n",
    "- `ask_gpt_judge()` → Sends a prompt to GPT-4o via the OpenAI API and returns a numeric score\n",
    "- `judged_results` → A list of evaluation records including the question, reference, model prediction, and GPT-4o's score\n",
    "- `np.mean()` → Used at the end to compute the **average evaluation score** across all QA pairs\n",
    "\n",
    "**Why use GPT-4o?**\n",
    "\n",
    "Because LLMs are best judged by **other LLMs** capable of contextual understanding. GPT-4o has been shown to be highly consistent and reliable in comparative evaluations.\n",
    "\n",
    "This evaluation complements our BLEU score by offering a **semantic and qualitative assessment**, helping us better understand the strengths and weaknesses of our fine-tuned model.\n",
    "\n",
    "---"
   ]
  },
  {
   "cell_type": "code",
   "execution_count": null,
   "metadata": {
    "colab": {
     "base_uri": "https://localhost:8080/"
    },
    "executionInfo": {
     "elapsed": 10944,
     "status": "ok",
     "timestamp": 1744606139887,
     "user": {
      "displayName": "Samyak Shrestha (Caesar)",
      "userId": "13083503381857072620"
     },
     "user_tz": 300
    },
    "id": "8M-uYTnsiVgM",
    "outputId": "ce9930ad-555a-472e-ce24-d56c380686c9"
   },
   "outputs": [
    {
     "name": "stdout",
     "output_type": "stream",
     "text": [
      "Enter your OpenAI API key:··········\n"
     ]
    }
   ],
   "source": [
    "os.environ[\"OPENAI_API_KEY\"] = getpass(\"Enter your OpenAI API key:\")"
   ]
  },
  {
   "cell_type": "code",
   "execution_count": null,
   "metadata": {
    "id": "ybr61GPxoOqg"
   },
   "outputs": [],
   "source": [
    "openai.api_key = os.environ[\"OPENAI_API_KEY\"]"
   ]
  },
  {
   "cell_type": "code",
   "execution_count": null,
   "metadata": {
    "id": "jy-m36OpoUnN"
   },
   "outputs": [],
   "source": [
    "# Load the API key from environment variable\n",
    "client = OpenAI(api_key=os.getenv(\"OPENAI_API_KEY\"))"
   ]
  },
  {
   "cell_type": "code",
   "execution_count": null,
   "metadata": {
    "id": "mw2-0ZHSo1S8"
   },
   "outputs": [],
   "source": [
    "def ask_gpt_judge(question, reference, prediction):\n",
    "    prompt = f\"\"\"\n",
    "You are an expert model evaluator. Given a question, a reference answer, and a model-generated answer that was generated with access to a relevant excerpt from a scientific paper, judge how good the model’s answer is on a scale of 1 to 5. Use the following rubric:\n",
    "\n",
    "1 – Completely irrelevant or hallucinated.\n",
    "2 – Partially related but mostly inaccurate.\n",
    "3 – Mostly accurate but missing key details.\n",
    "4 – Accurate and mostly complete.\n",
    "5 – Nearly identical in meaning to the reference.\n",
    "\n",
    "Be strict but fair. Output ONLY the number.\n",
    "\n",
    "Question: {question}\n",
    "Reference Answer: {reference}\n",
    "Model Prediction: {prediction}\n",
    "\n",
    "Score:\"\"\"\n",
    "\n",
    "    try:\n",
    "        response = client.chat.completions.create(\n",
    "            model=\"gpt-4o\",\n",
    "            messages=[{\"role\": \"user\", \"content\": prompt}],\n",
    "            temperature=0,\n",
    "        )\n",
    "        return response.choices[0].message.content.strip()\n",
    "    except Exception as e:\n",
    "        print(\"Error during evaluation:\\n\")\n",
    "        print(e)\n",
    "        return None"
   ]
  },
  {
   "cell_type": "code",
   "execution_count": null,
   "metadata": {
    "id": "cswXW0jGpoNB"
   },
   "outputs": [],
   "source": [
    "with open(\"eval_openbook_predictions.json\") as f:\n",
    "    eval_results = json.load(f)"
   ]
  },
  {
   "cell_type": "code",
   "execution_count": null,
   "metadata": {
    "colab": {
     "base_uri": "https://localhost:8080/"
    },
    "executionInfo": {
     "elapsed": 48072,
     "status": "ok",
     "timestamp": 1744607084426,
     "user": {
      "displayName": "Samyak Shrestha (Caesar)",
      "userId": "13083503381857072620"
     },
     "user_tz": 300
    },
    "id": "AI8m2yU0rgIG",
    "outputId": "d8f919a0-2391-446b-ecb3-5bee2667fa76"
   },
   "outputs": [
    {
     "name": "stdout",
     "output_type": "stream",
     "text": [
      "Evaluating 1/30\n",
      "Evaluating 2/30\n",
      "Evaluating 3/30\n",
      "Evaluating 4/30\n",
      "Evaluating 5/30\n",
      "Evaluating 6/30\n",
      "Evaluating 7/30\n",
      "Evaluating 8/30\n",
      "Evaluating 9/30\n",
      "Evaluating 10/30\n",
      "Evaluating 11/30\n",
      "Evaluating 12/30\n",
      "Evaluating 13/30\n",
      "Evaluating 14/30\n",
      "Evaluating 15/30\n",
      "Evaluating 16/30\n",
      "Evaluating 17/30\n",
      "Evaluating 18/30\n",
      "Evaluating 19/30\n",
      "Evaluating 20/30\n",
      "Evaluating 21/30\n",
      "Evaluating 22/30\n",
      "Evaluating 23/30\n",
      "Evaluating 24/30\n",
      "Evaluating 25/30\n",
      "Evaluating 26/30\n",
      "Evaluating 27/30\n",
      "Evaluating 28/30\n",
      "Evaluating 29/30\n",
      "Evaluating 30/30\n"
     ]
    }
   ],
   "source": [
    "judged_results = []\n",
    "\n",
    "for i, item in enumerate(eval_results):\n",
    "    print(f\"Evaluating {i+1}/{len(eval_results)}\")\n",
    "    score = ask_gpt_judge(item[\"question\"], item[\"reference\"], item[\"prediction\"])\n",
    "    if score:\n",
    "        judged_results.append({\n",
    "            \"question\": item[\"question\"],\n",
    "            \"reference\": item[\"reference\"],\n",
    "            \"prediction\": item[\"prediction\"],\n",
    "            \"gpt4o_score\": score\n",
    "        })\n",
    "    time.sleep(1.2)"
   ]
  },
  {
   "cell_type": "code",
   "execution_count": null,
   "metadata": {
    "id": "mbw_YDidrsNA"
   },
   "outputs": [],
   "source": [
    "with open(\"gpt4o_judgments_openbook.json\", \"w\") as f:\n",
    "    json.dump(judged_results, f, indent=2)"
   ]
  },
  {
   "cell_type": "code",
   "execution_count": null,
   "metadata": {
    "colab": {
     "base_uri": "https://localhost:8080/"
    },
    "executionInfo": {
     "elapsed": 5,
     "status": "ok",
     "timestamp": 1744607193005,
     "user": {
      "displayName": "Samyak Shrestha (Caesar)",
      "userId": "13083503381857072620"
     },
     "user_tz": 300
    },
    "id": "LvvWOeJvsOSL",
    "outputId": "10b21623-0803-4397-ee10-bb3b9f28d4c1"
   },
   "outputs": [
    {
     "name": "stdout",
     "output_type": "stream",
     "text": [
      " Question: What is the primary innovation introduced by the LoRI method for parameter-efficient fine-tuning?\n",
      " Reference Answer: LoRI introduces a novel approach that freezes the projection matrices A as random projections and sparsifies the matrices B using task-specific masks, thereby significantly reducing trainable parameters while minimizing cross-task interference.\n",
      " Model Prediction: LoRI reduces the number of trainable parameters by freezing the projection matrices A as random projections and sparsifying the matrices B using task-specific masks, while maintaining strong task performance.\n",
      " GPT-4o Evaluation: 5\n",
      "--------------------------------------------------------------------------------\n",
      " Question: How does LoRI reduce the number of trainable parameters compared to traditional LoRA?\n",
      " Reference Answer: LoRI reduces the number of trainable parameters by keeping matrix A fixed as a random projection and sparsifying matrix B using task-specific masks, eliminating the need to train both matrices and reducing redundancy.\n",
      " Model Prediction: LoRI reduces the number of trainable parameters by freezing the projection matrices A as random projections and sparsifying the matrices B using task-specific masks. This design allows for effective adaptation without updating A, and reduces redundancy in B.\n",
      " GPT-4o Evaluation: 5\n",
      "--------------------------------------------------------------------------------\n",
      " Question: Why is sparsity in matrix B important in LoRI?\n",
      " Reference Answer: Sparsity in matrix B enables LoRI to retain only the most critical elements necessary for adaptation, reducing parameter count and mitigating cross-task interference during adapter merging and continual learning.\n",
      " Model Prediction: Sparsity in matrix B is crucial for LoRI because it enables continual learning by isolating parameter updates across tasks, thereby mitigating catastrophic forgetting while preserving safety and task effectiveness.\n",
      " GPT-4o Evaluation: 3\n",
      "--------------------------------------------------------------------------------\n",
      " Question: How does LoRI improve the process of merging adapters in multi-task scenarios?\n",
      " Reference Answer: LoRI enables more effective adapter merging by using fixed, randomly initialized projection matrices A, which maps task-specific adapters into approximately orthogonal subspaces, thus reducing parameter interference.\n",
      " Model Prediction: LoRI enables training-free adapter merging by using fixed, randomly initialized projection matrices A, which maps task-specific adapters into approximately orthogonal subspaces, thereby reducing interference when merging multiple LoRIs.\n",
      " GPT-4o Evaluation: 5\n",
      "--------------------------------------------------------------------------------\n",
      " Question: What mechanism does LoRI use to mitigate catastrophic forgetting in continual learning?\n",
      " Reference Answer: LoRI mitigates catastrophic forgetting by applying task-specific sparse masks to matrix B, which isolates parameter updates across tasks and preserves knowledge from previous adaptations, including safety alignment.\n",
      " Model Prediction: LoRI mitigates catastrophic forgetting by leveraging the sparsity of matrices B through task-specific masks, which isolates parameter updates across tasks, preserving both safety and task effectiveness.\n",
      " GPT-4o Evaluation: 5\n",
      "--------------------------------------------------------------------------------\n",
      " Question: On what benchmark did LoRI with 90% sparsity in B outperform LoRA, and by how much?\n",
      " Reference Answer: LoRI with 90% sparsity in B outperformed LoRA by 17.3% on the HumanEval benchmark using the Llama-3 model.\n",
      " Model Prediction: LoRI with 90% sparsity in B surpassed LoRA by 17.3% on HumanEval with Llama-3.\n",
      " GPT-4o Evaluation: 5\n",
      "--------------------------------------------------------------------------------\n",
      " Question: How does LoRI compare to full fine-tuning and other PEFT methods in terms of performance and efficiency?\n",
      " Reference Answer: LoRI matches or outperforms full fine-tuning and other PEFT methods across multiple domains while using up to 95% fewer trainable parameters than LoRA, demonstrating both high performance and high efficiency.\n",
      " Model Prediction: LoRI achieves performance comparable to or better than full fine-tuning and other PEFT methods, while using up to 95% fewer trainable parameters than LoRA.\n",
      " GPT-4o Evaluation: 4\n",
      "--------------------------------------------------------------------------------\n",
      " Question: What types of tasks were used to evaluate LoRI's effectiveness?\n",
      " Reference Answer: LoRI was evaluated on a diverse set of tasks, including natural language understanding, mathematical reasoning, code generation, and safety alignment.\n",
      " Model Prediction: LoRI was evaluated across natural language understanding, mathematical reasoning, code generation, and safety alignment tasks.\n",
      " GPT-4o Evaluation: 5\n",
      "--------------------------------------------------------------------------------\n",
      " Question: What potential future directions do the authors propose for extending LoRI?\n",
      " Reference Answer: The authors suggest exploring structured sparsity patterns like block sparsity or head pruning and adapting LoRI to multi-modal models such as diffusion and vision-language systems.\n",
      " Model Prediction: The authors suggest exploring structured sparsity patterns, such as block sparsity, head pruning, or group-wise masking, and extending LoRI to multi-modal models like diffusion and vision-language models.\n",
      " GPT-4o Evaluation: 4\n",
      "--------------------------------------------------------------------------------\n",
      " Question: What is the broader significance of LoRI in the context of PEFT and LLM deployment?\n",
      " Reference Answer: LoRI provides a lightweight, modular, and scalable solution for adapting LLMs with minimal overhead, making it particularly suited for multi-task learning, safety-critical alignment, and efficient deployment on resource-constrained hardware.\n",
      " Model Prediction: LoRI represents a significant step forward in PEFT by offering a lightweight, parameter-efficient alternative to full fine-tuning that maintains strong performance across diverse tasks. Its ability to support multi-task learning, adapter merging, and continual learning without sacrificing safety alignment makes it a promising approach for deploying LLMs in real-world applications.\n",
      " GPT-4o Evaluation: 4\n",
      "--------------------------------------------------------------------------------\n",
      " Question: What are the core limitations of traditional LoRA methods that ElaLoRA seeks to address?\n",
      " Reference Answer: ElaLoRA addresses two key limitations of traditional LoRA: the fixed rank allocation across layers, which overlooks the layer-specific importance, and the inability to adapt ranks dynamically during training, which can lead to suboptimal parameter efficiency.\n",
      " Model Prediction: Traditional LoRA methods rely on fixed rank allocation, which fails to account for layer-specific importance, leading to suboptimal performance. ElaLoRA addresses this by dynamically reallocating computational resources to the most critical layers, ensuring that essential layers receive more capacity while redundant ranks are removed.\n",
      " GPT-4o Evaluation: 4\n",
      "--------------------------------------------------------------------------------\n",
      " Question: Describe the three core components of the ElaLoRA framework.\n",
      " Reference Answer: ElaLoRA's architecture consists of: (1) an SVD-based adaptation strategy for matrix decomposition, (2) an importance score calculation mechanism based on loss gradients to assess rank relevance, and (3) a dynamic rank learning algorithm that reallocates ranks periodically during training to optimize layer-wise adaptation.\n",
      " Model Prediction: The three core components of ElaLoRA are: 1) SVD-based adaptation strategy, which decomposes the low-rank matrix into singular values and vectors; 2) importance score calculation, which quantifies the significance of each rank based on loss gradients; and 3) a dynamic rank learning algorithm that reallocates ranks at scheduled intervals.\n",
      " GPT-4o Evaluation: 4\n",
      "--------------------------------------------------------------------------------\n",
      " Question: How does ElaLoRA’s adaptive strategy improve performance under limited parameter budgets?\n",
      " Reference Answer: ElaLoRA reallocates computational resources to the most critical layers by pruning less important ranks and expanding ranks in essential layers, thus achieving higher performance even under smaller parameter budgets—for example, outperforming other PEFT methods with r=2 compared to their r=4 settings.\n",
      " Model Prediction: By dynamically reallocating computational resources to the most critical layers, ElaLoRA ensures that essential layers receive more capacity while redundant ranks are removed, leading to improved performance under limited parameter budgets.\n",
      " GPT-4o Evaluation: 4\n",
      "--------------------------------------------------------------------------------\n",
      " Question: In what way does ElaLoRA achieve better task alignment during fine-tuning?\n",
      " Reference Answer: ElaLoRA uses gradient-derived importance scores to identify which layers contribute most to task-specific learning, allowing the model to allocate more capacity to those layers and thus improving task alignment and learning efficiency.\n",
      " Model Prediction: ElaLoRA dynamically prunes and expands ranks based on importance scores, ensuring that the most impactful layers receive additional capacity while removing redundant ranks, leading to more efficient model adaptation across diverse NLP and Vision tasks.\n",
      " GPT-4o Evaluation: 4\n",
      "--------------------------------------------------------------------------------\n",
      " Question: What experimental evidence supports the superiority of ElaLoRA over other PEFT methods?\n",
      " Reference Answer: Experiments across NLU, NLG, and vision benchmarks show that ElaLoRA consistently outperforms state-of-the-art PEFT methods in accuracy, particularly under constrained parameter budgets, and demonstrates better GLUE benchmark performance even with fewer trainable parameters.\n",
      " Model Prediction: ElaLoRA consistently outperforms existing PEFT methods across multiple benchmarks, including NLU, NLG, and Vision tasks, under various parameter budgets. For example, it achieves better average GLUE results with r = 2 than other PEFT methods at r = 4.\n",
      " GPT-4o Evaluation: 4\n",
      "--------------------------------------------------------------------------------\n",
      " Question: Why is ElaLoRA particularly well-suited for resource-constrained environments?\n",
      " Reference Answer: ElaLoRA's dynamic pruning and expansion mechanism ensures that only the most essential ranks are trained, reducing memory usage and computational cost while maintaining high performance, making it ideal for low-resource scenarios.\n",
      " Model Prediction: ElaLoRA achieves better average GLUE results with r = 2 than other PEFT methods at r = 4, making it an efficient solution for fine-tuning under limited computational resources.\n",
      " GPT-4o Evaluation: 2\n",
      "--------------------------------------------------------------------------------\n",
      " Question: How does the final rank distribution in ElaLoRA reflect its adaptive learning process?\n",
      " Reference Answer: ElaLoRA’s final rank distribution reveals that higher ranks are allocated to layers deemed more important via importance scores, confirming that the model dynamically concentrates learning capacity on the most impactful parts of the network.\n",
      " Model Prediction: The final rank distribution in ElaLoRA reflects the importance of each layer, with higher-ranked layers contributing more significantly to task performance. This demonstrates the effectiveness of ElaLoRA’s adaptive rank allocation strategy.\n",
      " GPT-4o Evaluation: 4\n",
      "--------------------------------------------------------------------------------\n",
      " Question: What are the broader implications of ElaLoRA’s design for the future of fine-tuning large models?\n",
      " Reference Answer: ElaLoRA’s design shows that adaptive, importance-based rank allocation can significantly improve parameter efficiency without sacrificing accuracy, suggesting a paradigm shift toward more intelligent and resource-aware fine-tuning strategies.\n",
      " Model Prediction: ElaLoRA’s adaptive rank allocation mechanism offers a scalable and efficient fine-tuning solution, particularly suited for resource-constrained environments. By dynamically adjusting ranks based on layer importance, ElaLoRA enables more effective and efficient fine-tuning of large models, paving the way for future research in parameter-efficient fine-tuning.\n",
      " GPT-4o Evaluation: 4\n",
      "--------------------------------------------------------------------------------\n",
      " Question: What distinguishes ElaLoRA from prior dynamic rank methods like AdaLoRA or IncreLoRA?\n",
      " Reference Answer: While AdaLoRA and IncreLoRA either prune or expand ranks, ElaLoRA is the first to implement both pruning and expansion dynamically during training, offering a more flexible and principled mechanism for allocating parameter capacity.\n",
      " Model Prediction: Unlike AdaLoRA and IncreLoRA, which either start with a high rank or a low rank, respectively, ElaLoRA dynamically adjusts the rank during training, ensuring that essential layers receive more capacity while redundant ranks are removed. This adaptive approach enables more efficient and effective fine-tuning.\n",
      " GPT-4o Evaluation: 3\n",
      "--------------------------------------------------------------------------------\n",
      " Question: Why is parameter-efficient fine-tuning increasingly important in the LLM landscape?\n",
      " Reference Answer: As LLMs grow in size, full fine-tuning becomes prohibitively expensive, especially for domain-specific or low-resource settings. PEFT methods like ElaLoRA offer a practical solution by enabling adaptation with minimal compute and storage costs.\n",
      " Model Prediction: As LLMs continue to grow in size, full fine-tuning becomes computationally infeasible. Parameter-efficient fine-tuning methods like ElaLoRA offer a scalable and efficient alternative, enabling adaptation without the need for extensive computational resources.\n",
      " GPT-4o Evaluation: 5\n",
      "--------------------------------------------------------------------------------\n",
      " Question: What is the primary goal of the study presented in 'Beyond QA Pairs'?\n",
      " Reference Answer: The study aims to assess the effectiveness of Parameter-Efficient Fine-Tuning (PEFT) for embedding domain-specific facts into LLMs, focusing on the impact of QA pair categorization and synthetic dataset generation techniques.\n",
      " Model Prediction: The study aims to optimize the fine-tuning process of Large Language Models (LLMs) for domain-specific applications by categorizing question-answer (QA) pairs into ‘Factual’ and ‘Conceptual’ classes and evaluating the performance of models trained on these datasets.\n",
      " GPT-4o Evaluation: 4\n",
      "--------------------------------------------------------------------------------\n",
      " Question: How are QA pairs categorized in this study, and what is the purpose of this categorization?\n",
      " Reference Answer: QA pairs are classified into ‘Factual’ and ‘Conceptual’ categories using a BERT-based classifier. The purpose is to investigate how the nature of QA pairs influences the effectiveness of PEFT.\n",
      " Model Prediction: QA pairs are categorized as ‘Factual’ or ‘Conceptual’ using a BERT-based classifier. The purpose of this categorization is to fine-tune two distinct sets of Llama-2 models based on these categories, allowing for a more targeted and effective adaptation to domain-specific data.\n",
      " GPT-4o Evaluation: 2\n",
      "--------------------------------------------------------------------------------\n",
      " Question: What were the findings regarding models trained on conceptual vs factual QA datasets?\n",
      " Reference Answer: Models fine-tuned on conceptual datasets consistently outperformed those trained on factual datasets across multiple evaluations.\n",
      " Model Prediction: Models trained on conceptual datasets significantly outperformed those trained on factual datasets across all three proctor models, indicating that PEFT is particularly advantageous for instruction-based tasks.\n",
      " GPT-4o Evaluation: 4\n",
      "--------------------------------------------------------------------------------\n",
      " Question: Which synthetic dataset generation techniques are evaluated in this work, and which one performs better?\n",
      " Reference Answer: The paper evaluates D-RAG and D-Naive synthetic data generation methods. D-Naive outperformed D-RAG in fine-tuning effectiveness, largely due to better retrieval performance.\n",
      " Model Prediction: The study compares D-RAG and D-Naive, with D-Naive demonstrating superior performance in generating high-quality synthetic datasets for PEFT.\n",
      " GPT-4o Evaluation: 4\n",
      "--------------------------------------------------------------------------------\n",
      " Question: What was the significance of the product recommendation task in the data center domain?\n",
      " Reference Answer: The task served as a practical demonstration showing that a Llama-2 7B model fine-tuned with PEFT on just 1,000 instruction-based QA pairs significantly outperformed the baseline in generating product recommendations.\n",
      " Model Prediction: The product recommendation task demonstrated that even a small dataset of 1,000 QA pairs can yield a high-quality fine-tuned model for instruction-based applications, underscoring the effectiveness of PEFT in such scenarios.\n",
      " GPT-4o Evaluation: 4\n",
      "--------------------------------------------------------------------------------\n",
      " Question: Why do the authors argue that PEFT may not be optimal for factual embedding?\n",
      " Reference Answer: The study shows that while PEFT is effective for instruction tuning, it struggles with embedding factual information as effectively, likely due to its limited parameter update scope.\n",
      " Model Prediction: The authors argue that PEFT may not be optimal for factual embedding because it excels in instruction-based tasks, and the sheer volume of QA pairs is insufficient for effective deployment in developing domain-specific QA bots.\n",
      " GPT-4o Evaluation: 2\n",
      "--------------------------------------------------------------------------------\n",
      " Question: What conclusions do the authors draw about the volume versus quality of QA data in PEFT?\n",
      " Reference Answer: They conclude that sheer quantity of QA pairs is insufficient; quality and conceptual depth are far more critical for successful PEFT.\n",
      " Model Prediction: The authors argue that while a large volume of QA data is not sufficient, careful selection and categorization of QA pairs are crucial for effective domain adaptation using PEFT.\n",
      " GPT-4o Evaluation: 4\n",
      "--------------------------------------------------------------------------------\n",
      " Question: What limitations of D-RAG were identified in the study?\n",
      " Reference Answer: D-RAG's limitations were attributed to the poor performance of its underlying vector database retriever, leading to suboptimal training data quality.\n",
      " Model Prediction: The limitations of D-RAG were primarily attributed to the suboptimal performance of the vector database retriever, which could be addressed through future research to unlock its full potential.\n",
      " GPT-4o Evaluation: 5\n",
      "--------------------------------------------------------------------------------\n",
      " Question: How do the authors suggest future research should improve PEFT for fact embedding?\n",
      " Reference Answer: Future research should explore improvements in retrieval systems used by D-RAG, and consider more refined QA classification and data generation strategies.\n",
      " Model Prediction: Future research should focus on improving synthetic data generation techniques, particularly D-RAG, and addressing the retrieval inefficiencies that currently limit its effectiveness.\n",
      " GPT-4o Evaluation: 3\n",
      "--------------------------------------------------------------------------------\n",
      " Question: What is the key insight this paper contributes to the field of LLM fine-tuning?\n",
      " Reference Answer: The paper highlights that PEFT's success hinges more on dataset composition—especially the conceptual quality of QA pairs—than on volume alone, and that careful use-case targeting is essential.\n",
      " Model Prediction: The paper highlights the importance of categorizing QA pairs into ‘Factual’ and ‘Conceptual’ classes for effective PEFT, demonstrating that models trained on conceptual datasets outperform those trained on factual datasets. It also underscores the need for careful selection of use-cases for PEFT and the potential of synthetic dataset generation techniques like D-Naive.\n",
      " GPT-4o Evaluation: 4\n",
      "--------------------------------------------------------------------------------\n"
     ]
    }
   ],
   "source": [
    "for sample in judged_results:\n",
    "    print(\" Question:\", sample[\"question\"])\n",
    "    print(\" Reference Answer:\", sample[\"reference\"])\n",
    "    print(\" Model Prediction:\", sample[\"prediction\"])\n",
    "    print(\" GPT-4o Evaluation:\", sample[\"gpt4o_score\"])\n",
    "    print(\"-\" * 80)"
   ]
  },
  {
   "cell_type": "code",
   "execution_count": null,
   "metadata": {
    "colab": {
     "base_uri": "https://localhost:8080/"
    },
    "executionInfo": {
     "elapsed": 19,
     "status": "ok",
     "timestamp": 1744607275926,
     "user": {
      "displayName": "Samyak Shrestha (Caesar)",
      "userId": "13083503381857072620"
     },
     "user_tz": 300
    },
    "id": "EAPLG9uKsScc",
    "outputId": "51898626-a460-485c-8fa4-925f6c5ab9f5"
   },
   "outputs": [
    {
     "name": "stdout",
     "output_type": "stream",
     "text": [
      "Average GPT-4o Evaluation Score: 3.97 out of 5\n"
     ]
    }
   ],
   "source": [
    "# Calculating the average score\n",
    "scores = [int(res[\"gpt4o_score\"]) for res in judged_results if res[\"gpt4o_score\"].isdigit()]\n",
    "average_score = np.mean(scores)\n",
    "print(f\"Average GPT-4o Evaluation Score: {average_score:.2f} out of 5\")"
   ]
  },
  {
   "cell_type": "code",
   "execution_count": null,
   "metadata": {
    "colab": {
     "base_uri": "https://localhost:8080/"
    },
    "executionInfo": {
     "elapsed": 43,
     "status": "ok",
     "timestamp": 1744608109793,
     "user": {
      "displayName": "Samyak Shrestha (Caesar)",
      "userId": "13083503381857072620"
     },
     "user_tz": 300
    },
    "id": "dfK8wlARsdLm",
    "outputId": "44cbff35-dabf-45b6-8cae-4a2940d87ec0"
   },
   "outputs": [
    {
     "name": "stdout",
     "output_type": "stream",
     "text": [
      "Judged results saved to ./data/evaluation/eval_gpt4o_judgments_open_book.json\n"
     ]
    }
   ],
   "source": [
    "# Saving the results\n",
    "\n",
    "output_path = \"./data/evaluation/eval_gpt4o_judgments_open_book.json\"\n",
    "\n",
    "os.makedirs(os.path.dirname(output_path), exist_ok=True)\n",
    "\n",
    "with open(output_path, \"w\") as f:\n",
    "    json.dump(judged_results, f, indent=2)\n",
    "\n",
    "print(f\"Judged results saved to {output_path}\")"
   ]
  },
  {
   "cell_type": "markdown",
   "metadata": {
    "id": "Vxp-n4zpv9th"
   },
   "source": [
    "## Step 7: Evaluating with BERTScore (Semantic Similarity Metric)\n",
    "\n",
    "In this section, we evaluate the semantic similarity between the model’s predictions and the ground truth answers using **BERTScore**, a metric that leverages contextual embeddings from large pretrained models (like BERT) to assess the *meaning* of the outputs.\n",
    "\n",
    "Unlike BLEU, which only considers surface-level n-gram overlap, BERTScore measures how semantically close the answers are—even when the phrasing differs.\n",
    "\n",
    "### Interpretation:\n",
    "- **BERTScore F1** reflects the degree of **semantic overlap** between model output and human-labeled answer.\n",
    "- A score closer to **1.0** indicates stronger alignment of meaning.\n",
    "- This metric is especially useful in open-ended QA or summarization settings where **exact matching isn't expected**.\n",
    "\n",
    "> Current Result:  \n",
    "> `Average BERTScore (F1): 0.5295`  \n",
    "> *This is a +0.1831 improvement from the BERTScore for the closed book case (0.3464). This vindicates our earlier hypothesis that adding context to the prompt can significantly improve the quality of the model's answers. We expect to see further improvement when RAG is implemented.*"
   ]
  },
  {
   "cell_type": "code",
   "execution_count": null,
   "metadata": {
    "id": "L8oILi7-vyQ-"
   },
   "outputs": [],
   "source": [
    "# Replace `results` with `judged_results` if needed\n",
    "predictions = [item[\"prediction\"] for item in results]\n",
    "references = [item[\"reference\"] for item in results]"
   ]
  },
  {
   "cell_type": "code",
   "execution_count": null,
   "metadata": {
    "id": "dfZCS_RgwLYr"
   },
   "outputs": [],
   "source": [
    "P, R, F1 = bertscore(predictions, references, lang=\"en\", rescale_with_baseline=True)"
   ]
  },
  {
   "cell_type": "code",
   "execution_count": null,
   "metadata": {
    "colab": {
     "base_uri": "https://localhost:8080/"
    },
    "executionInfo": {
     "elapsed": 46,
     "status": "ok",
     "timestamp": 1744608282515,
     "user": {
      "displayName": "Samyak Shrestha (Caesar)",
      "userId": "13083503381857072620"
     },
     "user_tz": 300
    },
    "id": "NFMxJDPlwMfc",
    "outputId": "dc95359a-00df-4c56-8fce-0bd71987ab8b"
   },
   "outputs": [
    {
     "name": "stdout",
     "output_type": "stream",
     "text": [
      "Average Precision: 0.5135\n"
     ]
    }
   ],
   "source": [
    "print(f\"Average Precision: {P.mean().item():.4f}\")"
   ]
  },
  {
   "cell_type": "code",
   "execution_count": null,
   "metadata": {
    "colab": {
     "base_uri": "https://localhost:8080/"
    },
    "executionInfo": {
     "elapsed": 10,
     "status": "ok",
     "timestamp": 1744608289481,
     "user": {
      "displayName": "Samyak Shrestha (Caesar)",
      "userId": "13083503381857072620"
     },
     "user_tz": 300
    },
    "id": "vtARSoJTwcbv",
    "outputId": "8994cdc3-c942-45cf-d30d-c8a7ad0dbd51"
   },
   "outputs": [
    {
     "name": "stdout",
     "output_type": "stream",
     "text": [
      "Average Recall: 0.5448\n"
     ]
    }
   ],
   "source": [
    "print(f\"Average Recall: {R.mean().item():.4f}\")"
   ]
  },
  {
   "cell_type": "code",
   "execution_count": null,
   "metadata": {
    "colab": {
     "base_uri": "https://localhost:8080/"
    },
    "executionInfo": {
     "elapsed": 3,
     "status": "ok",
     "timestamp": 1744608296073,
     "user": {
      "displayName": "Samyak Shrestha (Caesar)",
      "userId": "13083503381857072620"
     },
     "user_tz": 300
    },
    "id": "WiFZ-laOweJX",
    "outputId": "f69e6616-9365-4b60-d588-c0bb5d96d4f4"
   },
   "outputs": [
    {
     "name": "stdout",
     "output_type": "stream",
     "text": [
      "Average BERTScore (F1): 0.5295\n"
     ]
    }
   ],
   "source": [
    "print(f\"Average BERTScore (F1): {F1.mean().item():.4f}\")"
   ]
  },
  {
   "cell_type": "markdown",
   "metadata": {
    "id": "sqWtuPNS2sSN"
   },
   "source": [
    "## Step 8: Fixing Metadata"
   ]
  },
  {
   "cell_type": "code",
   "execution_count": 1,
   "metadata": {
    "executionInfo": {
     "elapsed": 3122,
     "status": "ok",
     "timestamp": 1744610609130,
     "user": {
      "displayName": "Samyak Shrestha (Caesar)",
      "userId": "13083503381857072620"
     },
     "user_tz": 300
    },
    "id": "8K818BQO2wZu"
   },
   "outputs": [],
   "source": [
    "pip install nbformat --quiet"
   ]
  },
  {
   "cell_type": "code",
   "execution_count": 6,
   "metadata": {
    "colab": {
     "base_uri": "https://localhost:8080/"
    },
    "executionInfo": {
     "elapsed": 3710,
     "status": "ok",
     "timestamp": 1744610589276,
     "user": {
      "displayName": "Samyak Shrestha (Caesar)",
      "userId": "13083503381857072620"
     },
     "user_tz": 300
    },
    "id": "A-y7BLG22yIl",
    "outputId": "767ed78d-82a7-4c14-a96d-0a179c615ad4"
   },
   "outputs": [
    {
     "name": "stdout",
     "output_type": "stream",
     "text": [
      "Mounted at /content/drive\n"
     ]
    }
   ],
   "source": [
    "from google.colab import drive, files\n",
    "drive.mount('/content/drive', force_remount=True)"
   ]
  },
  {
   "cell_type": "code",
   "execution_count": null,
   "metadata": {
    "colab": {
     "base_uri": "https://localhost:8080/"
    },
    "executionInfo": {
     "elapsed": 2198,
     "status": "ok",
     "timestamp": 1744610087804,
     "user": {
      "displayName": "Samyak Shrestha (Caesar)",
      "userId": "13083503381857072620"
     },
     "user_tz": 300
    },
    "id": "2NccUCw-21iw",
    "outputId": "09b60632-ef17-468c-e0c9-a22222ed50d0"
   },
   "outputs": [
    {
     "data": {
      "text/plain": [
       "['.keep',\n",
       " '00_colab_setup.ipynb',\n",
       " '01_arxiv_scraper.ipynb',\n",
       " '02_pdf_downloader.ipynb',\n",
       " '04_prepare_finetuning_corpus.ipynb',\n",
       " '05_tokenization.ipynb',\n",
       " '03_qa_curation.ipynb',\n",
       " '06_finetuning.ipynb',\n",
       " '07_eval_qa_curation.ipynb',\n",
       " '08_evaluation_closed_book.ipynb',\n",
       " '09_evaluation_open_book.ipynb']"
      ]
     },
     "execution_count": 3,
     "metadata": {},
     "output_type": "execute_result"
    }
   ],
   "source": [
    "import os\n",
    "# List the notebook directory to confirm the file exists\n",
    "os.listdir(\"/content/drive/MyDrive/llm-finetuning-project/llm-finetuning-summarizer/notebooks\")"
   ]
  },
  {
   "cell_type": "code",
   "execution_count": null,
   "metadata": {
    "colab": {
     "base_uri": "https://localhost:8080/"
    },
    "executionInfo": {
     "elapsed": 1683,
     "status": "ok",
     "timestamp": 1744610118844,
     "user": {
      "displayName": "Samyak Shrestha (Caesar)",
      "userId": "13083503381857072620"
     },
     "user_tz": 300
    },
    "id": "hr8MQY_X24OK",
    "outputId": "a152fb4e-619e-4cf1-ea3d-a515e9b32661"
   },
   "outputs": [
    {
     "name": "stdout",
     "output_type": "stream",
     "text": [
      "Notebook fixed and saved successfully!\n"
     ]
    }
   ],
   "source": [
    "import nbformat\n",
    "\n",
    "notebook_path = \"/content/drive/MyDrive/llm-finetuning-project/llm-finetuning-summarizer/notebooks/09_evaluation_open_book.ipynb\"\n",
    "\n",
    "with open(notebook_path, \"r\") as f:\n",
    "    nb = nbformat.read(f, as_version=4)\n",
    "\n",
    "if \"widgets\" in nb.metadata:\n",
    "    del nb.metadata[\"widgets\"]\n",
    "\n",
    "with open(notebook_path, \"w\") as f:\n",
    "    nbformat.write(nb, f)\n",
    "\n",
    "print(\"Notebook fixed and saved successfully!\")"
   ]
  }
 ],
 "metadata": {
  "colab": {
   "authorship_tag": "ABX9TyNQCeARvudUumQGg69/nyVR",
   "machine_shape": "hm",
   "provenance": []
  },
  "kernelspec": {
   "display_name": "Python 3",
   "name": "python3"
  },
  "language_info": {
   "name": "python"
  }
 },
 "nbformat": 4,
 "nbformat_minor": 0
}
